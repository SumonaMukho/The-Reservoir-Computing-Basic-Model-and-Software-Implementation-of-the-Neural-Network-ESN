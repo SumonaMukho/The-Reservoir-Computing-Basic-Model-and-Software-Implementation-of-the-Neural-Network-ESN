{
 "cells": [
  {
   "cell_type": "code",
   "execution_count": 0,
   "metadata": {
    "colab": {},
    "colab_type": "code",
    "id": "7YzaXMvn0CCj"
   },
   "outputs": [],
   "source": [
    "import numpy as np"
   ]
  },
  {
   "cell_type": "code",
   "execution_count": 0,
   "metadata": {
    "colab": {},
    "colab_type": "code",
    "id": "S2hMnSlFGFFa"
   },
   "outputs": [],
   "source": [
    "import progressbar"
   ]
  },
  {
   "cell_type": "code",
   "execution_count": 0,
   "metadata": {
    "colab": {},
    "colab_type": "code",
    "id": "5J0Od3uR0CCs"
   },
   "outputs": [],
   "source": [
    "import pandas as pd\n",
    "from pandas import DataFrame"
   ]
  },
  {
   "cell_type": "code",
   "execution_count": 0,
   "metadata": {
    "colab": {},
    "colab_type": "code",
    "id": "izsUyexw0CCv"
   },
   "outputs": [],
   "source": [
    "import sklearn as sk\n",
    "import sklearn.datasets as db\n",
    "from sklearn.decomposition import PCA\n",
    "from sklearn.model_selection import train_test_split"
   ]
  },
  {
   "cell_type": "code",
   "execution_count": 0,
   "metadata": {
    "colab": {},
    "colab_type": "code",
    "id": "DF2-qOKq0CCz"
   },
   "outputs": [],
   "source": [
    "from sklearn.metrics import confusion_matrix\n",
    "from sklearn.metrics import accuracy_score\n",
    "from sklearn.metrics import roc_curve\n",
    "from sklearn.metrics import f1_score "
   ]
  },
  {
   "cell_type": "code",
   "execution_count": 0,
   "metadata": {
    "colab": {},
    "colab_type": "code",
    "id": "_VAGvY6BnY0U"
   },
   "outputs": [],
   "source": [
    "import scikitplot as skplt"
   ]
  },
  {
   "cell_type": "code",
   "execution_count": 0,
   "metadata": {
    "colab": {},
    "colab_type": "code",
    "id": "wdDs8qn00CCo"
   },
   "outputs": [],
   "source": [
    "from mpl_toolkits.mplot3d import axes3d\n",
    "import matplotlib.pyplot as plt"
   ]
  },
  {
   "cell_type": "code",
   "execution_count": 0,
   "metadata": {
    "colab": {
     "base_uri": "https://localhost:8080/",
     "height": 34
    },
    "colab_type": "code",
    "id": "nWW3WMEr0CC2",
    "outputId": "4f4a3f32-fd6f-47b9-e65e-87b95b9f78f2"
   },
   "outputs": [
    {
     "name": "stderr",
     "output_type": "stream",
     "text": [
      "Using Numpy backend.\n"
     ]
    }
   ],
   "source": [
    "from easyesn import ClassificationESN\n",
    "from easyesn import OneHotEncoder\n",
    "from easyesn.optimizers import GridSearchOptimizer"
   ]
  },
  {
   "cell_type": "code",
   "execution_count": 0,
   "metadata": {
    "colab": {},
    "colab_type": "code",
    "id": "ONPf7qfm0CC6"
   },
   "outputs": [],
   "source": [
    "import xgboost"
   ]
  },
  {
   "cell_type": "code",
   "execution_count": 0,
   "metadata": {
    "colab": {},
    "colab_type": "code",
    "id": "A_1ulWl50CC-"
   },
   "outputs": [],
   "source": [
    "np.random.seed(4)"
   ]
  },
  {
   "cell_type": "code",
   "execution_count": 0,
   "metadata": {
    "colab": {},
    "colab_type": "code",
    "id": "qORqUrZc0CFh"
   },
   "outputs": [],
   "source": [
    "%matplotlib inline\n",
    "import itertools\n",
    "\n",
    "def plot_confusion_matrix(cm, classes,\n",
    "                          normalize=False,\n",
    "                          title='Confusion matrix',\n",
    "                          cmap=plt.cm.Blues):\n",
    "    if normalize:\n",
    "        cm = cm.astype('float') / cm.sum(axis=1)[:, np.newaxis]\n",
    "        cor=0\n",
    "        for i in range(len(cm)):\n",
    "            cor+=cm[i,i]\n",
    "        print(\"Normalized confusion matrix \",cor)\n",
    "    else:\n",
    "        cor=0\n",
    "        for i in range(len(cm)):\n",
    "            cor+=cm[i,i]\n",
    "        print('Confusion matrix, without normalization ',cor)\n",
    "    plt.imshow(cm, interpolation='nearest', cmap=cmap)\n",
    "    plt.title(title)\n",
    "    plt.colorbar()\n",
    "    tick_marks = np.arange(len(classes))\n",
    "    plt.xticks(tick_marks, classes, rotation=45)\n",
    "    plt.yticks(tick_marks, classes)\n",
    "    fmt = '.2f' if normalize else 'd'\n",
    "    thresh = cm.max() / 2.\n",
    "    for i, j in itertools.product(range(cm.shape[0]), range(cm.shape[1])):\n",
    "        plt.text(j, i, format(cm[i, j], fmt),\n",
    "                 horizontalalignment=\"center\",\n",
    "                 color=\"white\" if cm[i, j] > thresh else \"black\")\n",
    "    plt.ylabel('True label')\n",
    "    plt.xlabel('Predicted label')\n",
    "    plt.tight_layout()"
   ]
  },
  {
   "cell_type": "code",
   "execution_count": 0,
   "metadata": {
    "colab": {},
    "colab_type": "code",
    "id": "UlGcB0S1mAb4"
   },
   "outputs": [],
   "source": [
    "import os\n",
    "folderName = \"C:/Users/i5/Google Диск/ПМИ/курсы/курсовая работа/project proposal/main+pics/TheReservoirComputingBasicModelandSoftwareImplementationoftheNeuralNetworkESN/pics\""
   ]
  },
  {
   "cell_type": "markdown",
   "metadata": {
    "colab_type": "text",
    "id": "4rTlB_Mg0CDD"
   },
   "source": [
    "## I. ИССЛЕДОВАНИЕ АРХИТЕКТУРЫ ESN"
   ]
  },
  {
   "cell_type": "markdown",
   "metadata": {
    "colab_type": "text",
    "id": "gI3__HAa0CDF"
   },
   "source": [
    "<b>Генерирование набора данных ( т.е. двух экспериментально выбранных сигналов: $\\hspace{0.3cm}f(t)=-3^{t}\\hspace{0.3cm}$ и $ \\hspace{0.3cm}f(t)=2^{t} $  )"
   ]
  },
  {
   "cell_type": "code",
   "execution_count": 0,
   "metadata": {
    "colab": {},
    "colab_type": "code",
    "id": "uVuP_8kn0CDG"
   },
   "outputs": [],
   "source": [
    "n_data = 2                                  \n",
    "n_features = 15                             \n",
    "t=np.linspace(-10,10,n_features)\n",
    "inputData = np.empty((n_data, n_features))\n",
    "inputData[0,:]=np.array(-3**t)\n",
    "inputData[1,:]=np.array(2**t)\n",
    "outputData=np.array(([0,1],[1,0]))"
   ]
  },
  {
   "cell_type": "code",
   "execution_count": 0,
   "metadata": {
    "colab": {
     "base_uri": "https://localhost:8080/",
     "height": 131
    },
    "colab_type": "code",
    "id": "OqL0spC_0CDJ",
    "outputId": "4eadf32e-d922-47ee-f3d2-bfb5a42dd09d"
   },
   "outputs": [
    {
     "data": {
      "text/html": [
       "<div>\n",
       "<style scoped>\n",
       "    .dataframe tbody tr th:only-of-type {\n",
       "        vertical-align: middle;\n",
       "    }\n",
       "\n",
       "    .dataframe tbody tr th {\n",
       "        vertical-align: top;\n",
       "    }\n",
       "\n",
       "    .dataframe thead th {\n",
       "        text-align: right;\n",
       "    }\n",
       "</style>\n",
       "<table border=\"1\" class=\"dataframe\">\n",
       "  <thead>\n",
       "    <tr style=\"text-align: right;\">\n",
       "      <th></th>\n",
       "      <th>feature1</th>\n",
       "      <th>feature2</th>\n",
       "      <th>feature3</th>\n",
       "      <th>feature4</th>\n",
       "      <th>feature5</th>\n",
       "      <th>feature6</th>\n",
       "      <th>feature7</th>\n",
       "      <th>feature8</th>\n",
       "      <th>feature9</th>\n",
       "      <th>feature10</th>\n",
       "      <th>feature11</th>\n",
       "      <th>feature12</th>\n",
       "      <th>feature13</th>\n",
       "      <th>feature14</th>\n",
       "      <th>feature15</th>\n",
       "      <th>class</th>\n",
       "    </tr>\n",
       "  </thead>\n",
       "  <tbody>\n",
       "    <tr>\n",
       "      <th>Signal1</th>\n",
       "      <td>-0.000017</td>\n",
       "      <td>-0.000081</td>\n",
       "      <td>-0.000391</td>\n",
       "      <td>-0.001878</td>\n",
       "      <td>-0.009020</td>\n",
       "      <td>-0.043331</td>\n",
       "      <td>-0.208160</td>\n",
       "      <td>-1.0</td>\n",
       "      <td>-4.803987</td>\n",
       "      <td>-23.078288</td>\n",
       "      <td>-110.867787</td>\n",
       "      <td>-532.607368</td>\n",
       "      <td>-2558.638688</td>\n",
       "      <td>-12291.666114</td>\n",
       "      <td>-59049.0</td>\n",
       "      <td>0.0</td>\n",
       "    </tr>\n",
       "    <tr>\n",
       "      <th>signal2</th>\n",
       "      <td>0.000977</td>\n",
       "      <td>0.002629</td>\n",
       "      <td>0.007076</td>\n",
       "      <td>0.019047</td>\n",
       "      <td>0.051271</td>\n",
       "      <td>0.138011</td>\n",
       "      <td>0.371499</td>\n",
       "      <td>1.0</td>\n",
       "      <td>2.691800</td>\n",
       "      <td>7.245789</td>\n",
       "      <td>19.504218</td>\n",
       "      <td>52.501463</td>\n",
       "      <td>141.323458</td>\n",
       "      <td>380.414538</td>\n",
       "      <td>1024.0</td>\n",
       "      <td>1.0</td>\n",
       "    </tr>\n",
       "  </tbody>\n",
       "</table>\n",
       "</div>"
      ],
      "text/plain": [
       "         feature1  feature2  feature3  feature4  feature5  feature6  feature7  \\\n",
       "Signal1 -0.000017 -0.000081 -0.000391 -0.001878 -0.009020 -0.043331 -0.208160   \n",
       "signal2  0.000977  0.002629  0.007076  0.019047  0.051271  0.138011  0.371499   \n",
       "\n",
       "         feature8  feature9  feature10   feature11   feature12    feature13  \\\n",
       "Signal1      -1.0 -4.803987 -23.078288 -110.867787 -532.607368 -2558.638688   \n",
       "signal2       1.0  2.691800   7.245789   19.504218   52.501463   141.323458   \n",
       "\n",
       "            feature14  feature15  class  \n",
       "Signal1 -12291.666114   -59049.0    0.0  \n",
       "signal2    380.414538     1024.0    1.0  "
      ]
     },
     "execution_count": 13,
     "metadata": {
      "tags": []
     },
     "output_type": "execute_result"
    }
   ],
   "source": [
    "showData=DataFrame(np.hstack((inputData,np.array([outputData[:,0]]).T)))\n",
    "names=[]\n",
    "for i in range(n_features):\n",
    "    names.append('feature'+str(i+1))\n",
    "names.append(\"class\")\n",
    "showData.columns=names\n",
    "showData.rename(index={0:'Signal1',1:'signal2'}, inplace=True)\n",
    "showData.head()"
   ]
  },
  {
   "cell_type": "markdown",
   "metadata": {
    "colab_type": "text",
    "id": "o58bSyCD0CDQ"
   },
   "source": [
    "<b> Создание объекта эхо-сети с резервуаром, состоящем из трех нейронов. Соответственно, в предложенном случае эхо-сеть является трехмерной динамической системой."
   ]
  },
  {
   "cell_type": "markdown",
   "metadata": {
    "colab_type": "text",
    "id": "v_FFsZhwnY1l"
   },
   "source": [
    " Используем  __ClassificationESN__ из библиотеки __[easyesn](https://github.com/kalekiu/easyesn)__ для задачи бинарной классификации "
   ]
  },
  {
   "cell_type": "code",
   "execution_count": 0,
   "metadata": {
    "colab": {},
    "colab_type": "code",
    "id": "uyowDQ_N0CDR"
   },
   "outputs": [],
   "source": [
    "classESN= ClassificationESN(1,3, 2) #n_input=1, n_reservoir=3, n_classes=2"
   ]
  },
  {
   "cell_type": "markdown",
   "metadata": {
    "colab_type": "text",
    "id": "on4xF64X0CDV"
   },
   "source": [
    "<b> Связи нейронов в резервуаре( матрица _W)  при leakingRate=1.0"
   ]
  },
  {
   "cell_type": "code",
   "execution_count": 0,
   "metadata": {
    "colab": {
     "base_uri": "https://localhost:8080/",
     "height": 102
    },
    "colab_type": "code",
    "id": "C2mAlWKF0CDW",
    "outputId": "33008749-d525-4060-bd93-209d5ebf50dd"
   },
   "outputs": [
    {
     "name": "stdout",
     "output_type": "stream",
     "text": [
      "The random reservoir of the ESN object \n",
      "\n",
      "[[ 0.          0.          0.        ]\n",
      " [-0.41491646 -1.          0.        ]\n",
      " [ 0.          0.          0.        ]]\n"
     ]
    }
   ],
   "source": [
    "print('The random reservoir of the ESN object \\n')\n",
    "print(classESN._W)"
   ]
  },
  {
   "cell_type": "markdown",
   "metadata": {
    "colab_type": "text",
    "id": "aRWXpXZn0CDb"
   },
   "source": [
    "### Обучение объекта ESN "
   ]
  },
  {
   "cell_type": "code",
   "execution_count": 0,
   "metadata": {
    "colab": {
     "base_uri": "https://localhost:8080/",
     "height": 51
    },
    "colab_type": "code",
    "id": "2e8ZQ-PD0CDc",
    "outputId": "6309c056-6928-4168-8e0e-39f2667e4823"
   },
   "outputs": [
    {
     "name": "stderr",
     "output_type": "stream",
     "text": [
      "100% (2 of 2) |##########################| Elapsed Time: 0:00:00 Time:  0:00:00\n"
     ]
    },
    {
     "name": "stdout",
     "output_type": "stream",
     "text": [
      "training_error 0.650184918235\n"
     ]
    }
   ],
   "source": [
    "training_error=classESN.fit(inputData, outputData, verbose=1)\n",
    "print('training_error',training_error)"
   ]
  },
  {
   "cell_type": "markdown",
   "metadata": {
    "colab_type": "text",
    "id": "UN8vgiTj0CDh"
   },
   "source": [
    "#### Вектор реакции объекта ESN на сигнал inputData"
   ]
  },
  {
   "cell_type": "code",
   "execution_count": 0,
   "metadata": {
    "colab": {
     "base_uri": "https://localhost:8080/",
     "height": 34
    },
    "colab_type": "code",
    "id": "lvMT7d360CDi",
    "outputId": "f3e1bbf0-e4d3-4182-c1a4-230edeac82fb"
   },
   "outputs": [
    {
     "name": "stdout",
     "output_type": "stream",
     "text": [
      "(5, 30)\n"
     ]
    }
   ],
   "source": [
    "print(classESN._X.shape)"
   ]
  },
  {
   "cell_type": "markdown",
   "metadata": {
    "colab_type": "text",
    "id": "afGq_kfa0CDo"
   },
   "source": [
    "####  W_out - матрица считыватель( readout), которая формируется во время обучения объекта сети. Также W_out позволяет постороить плоскоть в трехмерном пространстве, с помощью которой, можно будет классифицировать сигналы."
   ]
  },
  {
   "cell_type": "code",
   "execution_count": 0,
   "metadata": {
    "colab": {
     "base_uri": "https://localhost:8080/",
     "height": 34
    },
    "colab_type": "code",
    "id": "zH6_BWCO0CDq",
    "outputId": "b69b63bd-8941-41e8-9171-aa4cc494fae5"
   },
   "outputs": [
    {
     "name": "stdout",
     "output_type": "stream",
     "text": [
      "(2, 5)\n"
     ]
    }
   ],
   "source": [
    "print(classESN._W_out.shape)"
   ]
  },
  {
   "cell_type": "markdown",
   "metadata": {
    "colab_type": "text",
    "id": "gxZKeXxU0CDy"
   },
   "source": [
    "#### Нормали разделющих плоскостей"
   ]
  },
  {
   "cell_type": "code",
   "execution_count": 0,
   "metadata": {
    "colab": {
     "base_uri": "https://localhost:8080/",
     "height": 153
    },
    "colab_type": "code",
    "id": "DUKhx3V40CD0",
    "outputId": "744f3003-5669-4b6d-8729-75e38715460e"
   },
   "outputs": [
    {
     "name": "stdout",
     "output_type": "stream",
     "text": [
      "The first normal\n",
      " [[ 0.         -0.14684202]\n",
      " [ 0.          0.59903528]\n",
      " [ 0.         -0.78714304]]\n",
      "The second normal\n",
      " [[ 0.          0.14684202]\n",
      " [ 0.         -0.59903528]\n",
      " [ 0.          0.78714304]]\n"
     ]
    }
   ],
   "source": [
    "normal1=np.array(([0,0,0],[classESN._W_out[0,2],classESN._W_out[0,3],classESN._W_out[0,4]])) #нормаль к первой плоскости     \n",
    "normal1=normal1/np.sqrt(normal1[1,0]**2+normal1[1,1]**2+normal1[1,2]**2)\n",
    "normal1=normal1.T\n",
    "print(\"The first normal\\n\", normal1)\n",
    "\n",
    "normal2=np.array(([0,0,0],[classESN._W_out[1,2],classESN._W_out[1,3],classESN._W_out[1,4]])) #нормаль к второй плоскоти \n",
    "normal2=normal2/np.sqrt(normal2[1,0]**2+normal2[1,1]**2+normal2[1,2]**2)\n",
    "normal2=normal2.T\n",
    "print(\"The second normal\\n\", normal2)"
   ]
  },
  {
   "cell_type": "code",
   "execution_count": 0,
   "metadata": {
    "colab": {},
    "colab_type": "code",
    "id": "dFwq7cCc0CD5",
    "outputId": "2a491f51-5c8f-49f9-c2ea-3c483852230e"
   },
   "outputs": [
    {
     "data": {
      "application/javascript": [
       "/* Put everything inside the global mpl namespace */\n",
       "window.mpl = {};\n",
       "\n",
       "\n",
       "mpl.get_websocket_type = function() {\n",
       "    if (typeof(WebSocket) !== 'undefined') {\n",
       "        return WebSocket;\n",
       "    } else if (typeof(MozWebSocket) !== 'undefined') {\n",
       "        return MozWebSocket;\n",
       "    } else {\n",
       "        alert('Your browser does not have WebSocket support.' +\n",
       "              'Please try Chrome, Safari or Firefox ≥ 6. ' +\n",
       "              'Firefox 4 and 5 are also supported but you ' +\n",
       "              'have to enable WebSockets in about:config.');\n",
       "    };\n",
       "}\n",
       "\n",
       "mpl.figure = function(figure_id, websocket, ondownload, parent_element) {\n",
       "    this.id = figure_id;\n",
       "\n",
       "    this.ws = websocket;\n",
       "\n",
       "    this.supports_binary = (this.ws.binaryType != undefined);\n",
       "\n",
       "    if (!this.supports_binary) {\n",
       "        var warnings = document.getElementById(\"mpl-warnings\");\n",
       "        if (warnings) {\n",
       "            warnings.style.display = 'block';\n",
       "            warnings.textContent = (\n",
       "                \"This browser does not support binary websocket messages. \" +\n",
       "                    \"Performance may be slow.\");\n",
       "        }\n",
       "    }\n",
       "\n",
       "    this.imageObj = new Image();\n",
       "\n",
       "    this.context = undefined;\n",
       "    this.message = undefined;\n",
       "    this.canvas = undefined;\n",
       "    this.rubberband_canvas = undefined;\n",
       "    this.rubberband_context = undefined;\n",
       "    this.format_dropdown = undefined;\n",
       "\n",
       "    this.image_mode = 'full';\n",
       "\n",
       "    this.root = $('<div/>');\n",
       "    this._root_extra_style(this.root)\n",
       "    this.root.attr('style', 'display: inline-block');\n",
       "\n",
       "    $(parent_element).append(this.root);\n",
       "\n",
       "    this._init_header(this);\n",
       "    this._init_canvas(this);\n",
       "    this._init_toolbar(this);\n",
       "\n",
       "    var fig = this;\n",
       "\n",
       "    this.waiting = false;\n",
       "\n",
       "    this.ws.onopen =  function () {\n",
       "            fig.send_message(\"supports_binary\", {value: fig.supports_binary});\n",
       "            fig.send_message(\"send_image_mode\", {});\n",
       "            if (mpl.ratio != 1) {\n",
       "                fig.send_message(\"set_dpi_ratio\", {'dpi_ratio': mpl.ratio});\n",
       "            }\n",
       "            fig.send_message(\"refresh\", {});\n",
       "        }\n",
       "\n",
       "    this.imageObj.onload = function() {\n",
       "            if (fig.image_mode == 'full') {\n",
       "                // Full images could contain transparency (where diff images\n",
       "                // almost always do), so we need to clear the canvas so that\n",
       "                // there is no ghosting.\n",
       "                fig.context.clearRect(0, 0, fig.canvas.width, fig.canvas.height);\n",
       "            }\n",
       "            fig.context.drawImage(fig.imageObj, 0, 0);\n",
       "        };\n",
       "\n",
       "    this.imageObj.onunload = function() {\n",
       "        fig.ws.close();\n",
       "    }\n",
       "\n",
       "    this.ws.onmessage = this._make_on_message_function(this);\n",
       "\n",
       "    this.ondownload = ondownload;\n",
       "}\n",
       "\n",
       "mpl.figure.prototype._init_header = function() {\n",
       "    var titlebar = $(\n",
       "        '<div class=\"ui-dialog-titlebar ui-widget-header ui-corner-all ' +\n",
       "        'ui-helper-clearfix\"/>');\n",
       "    var titletext = $(\n",
       "        '<div class=\"ui-dialog-title\" style=\"width: 100%; ' +\n",
       "        'text-align: center; padding: 3px;\"/>');\n",
       "    titlebar.append(titletext)\n",
       "    this.root.append(titlebar);\n",
       "    this.header = titletext[0];\n",
       "}\n",
       "\n",
       "\n",
       "\n",
       "mpl.figure.prototype._canvas_extra_style = function(canvas_div) {\n",
       "\n",
       "}\n",
       "\n",
       "\n",
       "mpl.figure.prototype._root_extra_style = function(canvas_div) {\n",
       "\n",
       "}\n",
       "\n",
       "mpl.figure.prototype._init_canvas = function() {\n",
       "    var fig = this;\n",
       "\n",
       "    var canvas_div = $('<div/>');\n",
       "\n",
       "    canvas_div.attr('style', 'position: relative; clear: both; outline: 0');\n",
       "\n",
       "    function canvas_keyboard_event(event) {\n",
       "        return fig.key_event(event, event['data']);\n",
       "    }\n",
       "\n",
       "    canvas_div.keydown('key_press', canvas_keyboard_event);\n",
       "    canvas_div.keyup('key_release', canvas_keyboard_event);\n",
       "    this.canvas_div = canvas_div\n",
       "    this._canvas_extra_style(canvas_div)\n",
       "    this.root.append(canvas_div);\n",
       "\n",
       "    var canvas = $('<canvas/>');\n",
       "    canvas.addClass('mpl-canvas');\n",
       "    canvas.attr('style', \"left: 0; top: 0; z-index: 0; outline: 0\")\n",
       "\n",
       "    this.canvas = canvas[0];\n",
       "    this.context = canvas[0].getContext(\"2d\");\n",
       "\n",
       "    var backingStore = this.context.backingStorePixelRatio ||\n",
       "\tthis.context.webkitBackingStorePixelRatio ||\n",
       "\tthis.context.mozBackingStorePixelRatio ||\n",
       "\tthis.context.msBackingStorePixelRatio ||\n",
       "\tthis.context.oBackingStorePixelRatio ||\n",
       "\tthis.context.backingStorePixelRatio || 1;\n",
       "\n",
       "    mpl.ratio = (window.devicePixelRatio || 1) / backingStore;\n",
       "\n",
       "    var rubberband = $('<canvas/>');\n",
       "    rubberband.attr('style', \"position: absolute; left: 0; top: 0; z-index: 1;\")\n",
       "\n",
       "    var pass_mouse_events = true;\n",
       "\n",
       "    canvas_div.resizable({\n",
       "        start: function(event, ui) {\n",
       "            pass_mouse_events = false;\n",
       "        },\n",
       "        resize: function(event, ui) {\n",
       "            fig.request_resize(ui.size.width, ui.size.height);\n",
       "        },\n",
       "        stop: function(event, ui) {\n",
       "            pass_mouse_events = true;\n",
       "            fig.request_resize(ui.size.width, ui.size.height);\n",
       "        },\n",
       "    });\n",
       "\n",
       "    function mouse_event_fn(event) {\n",
       "        if (pass_mouse_events)\n",
       "            return fig.mouse_event(event, event['data']);\n",
       "    }\n",
       "\n",
       "    rubberband.mousedown('button_press', mouse_event_fn);\n",
       "    rubberband.mouseup('button_release', mouse_event_fn);\n",
       "    // Throttle sequential mouse events to 1 every 20ms.\n",
       "    rubberband.mousemove('motion_notify', mouse_event_fn);\n",
       "\n",
       "    rubberband.mouseenter('figure_enter', mouse_event_fn);\n",
       "    rubberband.mouseleave('figure_leave', mouse_event_fn);\n",
       "\n",
       "    canvas_div.on(\"wheel\", function (event) {\n",
       "        event = event.originalEvent;\n",
       "        event['data'] = 'scroll'\n",
       "        if (event.deltaY < 0) {\n",
       "            event.step = 1;\n",
       "        } else {\n",
       "            event.step = -1;\n",
       "        }\n",
       "        mouse_event_fn(event);\n",
       "    });\n",
       "\n",
       "    canvas_div.append(canvas);\n",
       "    canvas_div.append(rubberband);\n",
       "\n",
       "    this.rubberband = rubberband;\n",
       "    this.rubberband_canvas = rubberband[0];\n",
       "    this.rubberband_context = rubberband[0].getContext(\"2d\");\n",
       "    this.rubberband_context.strokeStyle = \"#000000\";\n",
       "\n",
       "    this._resize_canvas = function(width, height) {\n",
       "        // Keep the size of the canvas, canvas container, and rubber band\n",
       "        // canvas in synch.\n",
       "        canvas_div.css('width', width)\n",
       "        canvas_div.css('height', height)\n",
       "\n",
       "        canvas.attr('width', width * mpl.ratio);\n",
       "        canvas.attr('height', height * mpl.ratio);\n",
       "        canvas.attr('style', 'width: ' + width + 'px; height: ' + height + 'px;');\n",
       "\n",
       "        rubberband.attr('width', width);\n",
       "        rubberband.attr('height', height);\n",
       "    }\n",
       "\n",
       "    // Set the figure to an initial 600x600px, this will subsequently be updated\n",
       "    // upon first draw.\n",
       "    this._resize_canvas(600, 600);\n",
       "\n",
       "    // Disable right mouse context menu.\n",
       "    $(this.rubberband_canvas).bind(\"contextmenu\",function(e){\n",
       "        return false;\n",
       "    });\n",
       "\n",
       "    function set_focus () {\n",
       "        canvas.focus();\n",
       "        canvas_div.focus();\n",
       "    }\n",
       "\n",
       "    window.setTimeout(set_focus, 100);\n",
       "}\n",
       "\n",
       "mpl.figure.prototype._init_toolbar = function() {\n",
       "    var fig = this;\n",
       "\n",
       "    var nav_element = $('<div/>')\n",
       "    nav_element.attr('style', 'width: 100%');\n",
       "    this.root.append(nav_element);\n",
       "\n",
       "    // Define a callback function for later on.\n",
       "    function toolbar_event(event) {\n",
       "        return fig.toolbar_button_onclick(event['data']);\n",
       "    }\n",
       "    function toolbar_mouse_event(event) {\n",
       "        return fig.toolbar_button_onmouseover(event['data']);\n",
       "    }\n",
       "\n",
       "    for(var toolbar_ind in mpl.toolbar_items) {\n",
       "        var name = mpl.toolbar_items[toolbar_ind][0];\n",
       "        var tooltip = mpl.toolbar_items[toolbar_ind][1];\n",
       "        var image = mpl.toolbar_items[toolbar_ind][2];\n",
       "        var method_name = mpl.toolbar_items[toolbar_ind][3];\n",
       "\n",
       "        if (!name) {\n",
       "            // put a spacer in here.\n",
       "            continue;\n",
       "        }\n",
       "        var button = $('<button/>');\n",
       "        button.addClass('ui-button ui-widget ui-state-default ui-corner-all ' +\n",
       "                        'ui-button-icon-only');\n",
       "        button.attr('role', 'button');\n",
       "        button.attr('aria-disabled', 'false');\n",
       "        button.click(method_name, toolbar_event);\n",
       "        button.mouseover(tooltip, toolbar_mouse_event);\n",
       "\n",
       "        var icon_img = $('<span/>');\n",
       "        icon_img.addClass('ui-button-icon-primary ui-icon');\n",
       "        icon_img.addClass(image);\n",
       "        icon_img.addClass('ui-corner-all');\n",
       "\n",
       "        var tooltip_span = $('<span/>');\n",
       "        tooltip_span.addClass('ui-button-text');\n",
       "        tooltip_span.html(tooltip);\n",
       "\n",
       "        button.append(icon_img);\n",
       "        button.append(tooltip_span);\n",
       "\n",
       "        nav_element.append(button);\n",
       "    }\n",
       "\n",
       "    var fmt_picker_span = $('<span/>');\n",
       "\n",
       "    var fmt_picker = $('<select/>');\n",
       "    fmt_picker.addClass('mpl-toolbar-option ui-widget ui-widget-content');\n",
       "    fmt_picker_span.append(fmt_picker);\n",
       "    nav_element.append(fmt_picker_span);\n",
       "    this.format_dropdown = fmt_picker[0];\n",
       "\n",
       "    for (var ind in mpl.extensions) {\n",
       "        var fmt = mpl.extensions[ind];\n",
       "        var option = $(\n",
       "            '<option/>', {selected: fmt === mpl.default_extension}).html(fmt);\n",
       "        fmt_picker.append(option)\n",
       "    }\n",
       "\n",
       "    // Add hover states to the ui-buttons\n",
       "    $( \".ui-button\" ).hover(\n",
       "        function() { $(this).addClass(\"ui-state-hover\");},\n",
       "        function() { $(this).removeClass(\"ui-state-hover\");}\n",
       "    );\n",
       "\n",
       "    var status_bar = $('<span class=\"mpl-message\"/>');\n",
       "    nav_element.append(status_bar);\n",
       "    this.message = status_bar[0];\n",
       "}\n",
       "\n",
       "mpl.figure.prototype.request_resize = function(x_pixels, y_pixels) {\n",
       "    // Request matplotlib to resize the figure. Matplotlib will then trigger a resize in the client,\n",
       "    // which will in turn request a refresh of the image.\n",
       "    this.send_message('resize', {'width': x_pixels, 'height': y_pixels});\n",
       "}\n",
       "\n",
       "mpl.figure.prototype.send_message = function(type, properties) {\n",
       "    properties['type'] = type;\n",
       "    properties['figure_id'] = this.id;\n",
       "    this.ws.send(JSON.stringify(properties));\n",
       "}\n",
       "\n",
       "mpl.figure.prototype.send_draw_message = function() {\n",
       "    if (!this.waiting) {\n",
       "        this.waiting = true;\n",
       "        this.ws.send(JSON.stringify({type: \"draw\", figure_id: this.id}));\n",
       "    }\n",
       "}\n",
       "\n",
       "\n",
       "mpl.figure.prototype.handle_save = function(fig, msg) {\n",
       "    var format_dropdown = fig.format_dropdown;\n",
       "    var format = format_dropdown.options[format_dropdown.selectedIndex].value;\n",
       "    fig.ondownload(fig, format);\n",
       "}\n",
       "\n",
       "\n",
       "mpl.figure.prototype.handle_resize = function(fig, msg) {\n",
       "    var size = msg['size'];\n",
       "    if (size[0] != fig.canvas.width || size[1] != fig.canvas.height) {\n",
       "        fig._resize_canvas(size[0], size[1]);\n",
       "        fig.send_message(\"refresh\", {});\n",
       "    };\n",
       "}\n",
       "\n",
       "mpl.figure.prototype.handle_rubberband = function(fig, msg) {\n",
       "    var x0 = msg['x0'] / mpl.ratio;\n",
       "    var y0 = (fig.canvas.height - msg['y0']) / mpl.ratio;\n",
       "    var x1 = msg['x1'] / mpl.ratio;\n",
       "    var y1 = (fig.canvas.height - msg['y1']) / mpl.ratio;\n",
       "    x0 = Math.floor(x0) + 0.5;\n",
       "    y0 = Math.floor(y0) + 0.5;\n",
       "    x1 = Math.floor(x1) + 0.5;\n",
       "    y1 = Math.floor(y1) + 0.5;\n",
       "    var min_x = Math.min(x0, x1);\n",
       "    var min_y = Math.min(y0, y1);\n",
       "    var width = Math.abs(x1 - x0);\n",
       "    var height = Math.abs(y1 - y0);\n",
       "\n",
       "    fig.rubberband_context.clearRect(\n",
       "        0, 0, fig.canvas.width, fig.canvas.height);\n",
       "\n",
       "    fig.rubberband_context.strokeRect(min_x, min_y, width, height);\n",
       "}\n",
       "\n",
       "mpl.figure.prototype.handle_figure_label = function(fig, msg) {\n",
       "    // Updates the figure title.\n",
       "    fig.header.textContent = msg['label'];\n",
       "}\n",
       "\n",
       "mpl.figure.prototype.handle_cursor = function(fig, msg) {\n",
       "    var cursor = msg['cursor'];\n",
       "    switch(cursor)\n",
       "    {\n",
       "    case 0:\n",
       "        cursor = 'pointer';\n",
       "        break;\n",
       "    case 1:\n",
       "        cursor = 'default';\n",
       "        break;\n",
       "    case 2:\n",
       "        cursor = 'crosshair';\n",
       "        break;\n",
       "    case 3:\n",
       "        cursor = 'move';\n",
       "        break;\n",
       "    }\n",
       "    fig.rubberband_canvas.style.cursor = cursor;\n",
       "}\n",
       "\n",
       "mpl.figure.prototype.handle_message = function(fig, msg) {\n",
       "    fig.message.textContent = msg['message'];\n",
       "}\n",
       "\n",
       "mpl.figure.prototype.handle_draw = function(fig, msg) {\n",
       "    // Request the server to send over a new figure.\n",
       "    fig.send_draw_message();\n",
       "}\n",
       "\n",
       "mpl.figure.prototype.handle_image_mode = function(fig, msg) {\n",
       "    fig.image_mode = msg['mode'];\n",
       "}\n",
       "\n",
       "mpl.figure.prototype.updated_canvas_event = function() {\n",
       "    // Called whenever the canvas gets updated.\n",
       "    this.send_message(\"ack\", {});\n",
       "}\n",
       "\n",
       "// A function to construct a web socket function for onmessage handling.\n",
       "// Called in the figure constructor.\n",
       "mpl.figure.prototype._make_on_message_function = function(fig) {\n",
       "    return function socket_on_message(evt) {\n",
       "        if (evt.data instanceof Blob) {\n",
       "            /* FIXME: We get \"Resource interpreted as Image but\n",
       "             * transferred with MIME type text/plain:\" errors on\n",
       "             * Chrome.  But how to set the MIME type?  It doesn't seem\n",
       "             * to be part of the websocket stream */\n",
       "            evt.data.type = \"image/png\";\n",
       "\n",
       "            /* Free the memory for the previous frames */\n",
       "            if (fig.imageObj.src) {\n",
       "                (window.URL || window.webkitURL).revokeObjectURL(\n",
       "                    fig.imageObj.src);\n",
       "            }\n",
       "\n",
       "            fig.imageObj.src = (window.URL || window.webkitURL).createObjectURL(\n",
       "                evt.data);\n",
       "            fig.updated_canvas_event();\n",
       "            fig.waiting = false;\n",
       "            return;\n",
       "        }\n",
       "        else if (typeof evt.data === 'string' && evt.data.slice(0, 21) == \"data:image/png;base64\") {\n",
       "            fig.imageObj.src = evt.data;\n",
       "            fig.updated_canvas_event();\n",
       "            fig.waiting = false;\n",
       "            return;\n",
       "        }\n",
       "\n",
       "        var msg = JSON.parse(evt.data);\n",
       "        var msg_type = msg['type'];\n",
       "\n",
       "        // Call the  \"handle_{type}\" callback, which takes\n",
       "        // the figure and JSON message as its only arguments.\n",
       "        try {\n",
       "            var callback = fig[\"handle_\" + msg_type];\n",
       "        } catch (e) {\n",
       "            console.log(\"No handler for the '\" + msg_type + \"' message type: \", msg);\n",
       "            return;\n",
       "        }\n",
       "\n",
       "        if (callback) {\n",
       "            try {\n",
       "                // console.log(\"Handling '\" + msg_type + \"' message: \", msg);\n",
       "                callback(fig, msg);\n",
       "            } catch (e) {\n",
       "                console.log(\"Exception inside the 'handler_\" + msg_type + \"' callback:\", e, e.stack, msg);\n",
       "            }\n",
       "        }\n",
       "    };\n",
       "}\n",
       "\n",
       "// from http://stackoverflow.com/questions/1114465/getting-mouse-location-in-canvas\n",
       "mpl.findpos = function(e) {\n",
       "    //this section is from http://www.quirksmode.org/js/events_properties.html\n",
       "    var targ;\n",
       "    if (!e)\n",
       "        e = window.event;\n",
       "    if (e.target)\n",
       "        targ = e.target;\n",
       "    else if (e.srcElement)\n",
       "        targ = e.srcElement;\n",
       "    if (targ.nodeType == 3) // defeat Safari bug\n",
       "        targ = targ.parentNode;\n",
       "\n",
       "    // jQuery normalizes the pageX and pageY\n",
       "    // pageX,Y are the mouse positions relative to the document\n",
       "    // offset() returns the position of the element relative to the document\n",
       "    var x = e.pageX - $(targ).offset().left;\n",
       "    var y = e.pageY - $(targ).offset().top;\n",
       "\n",
       "    return {\"x\": x, \"y\": y};\n",
       "};\n",
       "\n",
       "/*\n",
       " * return a copy of an object with only non-object keys\n",
       " * we need this to avoid circular references\n",
       " * http://stackoverflow.com/a/24161582/3208463\n",
       " */\n",
       "function simpleKeys (original) {\n",
       "  return Object.keys(original).reduce(function (obj, key) {\n",
       "    if (typeof original[key] !== 'object')\n",
       "        obj[key] = original[key]\n",
       "    return obj;\n",
       "  }, {});\n",
       "}\n",
       "\n",
       "mpl.figure.prototype.mouse_event = function(event, name) {\n",
       "    var canvas_pos = mpl.findpos(event)\n",
       "\n",
       "    if (name === 'button_press')\n",
       "    {\n",
       "        this.canvas.focus();\n",
       "        this.canvas_div.focus();\n",
       "    }\n",
       "\n",
       "    var x = canvas_pos.x * mpl.ratio;\n",
       "    var y = canvas_pos.y * mpl.ratio;\n",
       "\n",
       "    this.send_message(name, {x: x, y: y, button: event.button,\n",
       "                             step: event.step,\n",
       "                             guiEvent: simpleKeys(event)});\n",
       "\n",
       "    /* This prevents the web browser from automatically changing to\n",
       "     * the text insertion cursor when the button is pressed.  We want\n",
       "     * to control all of the cursor setting manually through the\n",
       "     * 'cursor' event from matplotlib */\n",
       "    event.preventDefault();\n",
       "    return false;\n",
       "}\n",
       "\n",
       "mpl.figure.prototype._key_event_extra = function(event, name) {\n",
       "    // Handle any extra behaviour associated with a key event\n",
       "}\n",
       "\n",
       "mpl.figure.prototype.key_event = function(event, name) {\n",
       "\n",
       "    // Prevent repeat events\n",
       "    if (name == 'key_press')\n",
       "    {\n",
       "        if (event.which === this._key)\n",
       "            return;\n",
       "        else\n",
       "            this._key = event.which;\n",
       "    }\n",
       "    if (name == 'key_release')\n",
       "        this._key = null;\n",
       "\n",
       "    var value = '';\n",
       "    if (event.ctrlKey && event.which != 17)\n",
       "        value += \"ctrl+\";\n",
       "    if (event.altKey && event.which != 18)\n",
       "        value += \"alt+\";\n",
       "    if (event.shiftKey && event.which != 16)\n",
       "        value += \"shift+\";\n",
       "\n",
       "    value += 'k';\n",
       "    value += event.which.toString();\n",
       "\n",
       "    this._key_event_extra(event, name);\n",
       "\n",
       "    this.send_message(name, {key: value,\n",
       "                             guiEvent: simpleKeys(event)});\n",
       "    return false;\n",
       "}\n",
       "\n",
       "mpl.figure.prototype.toolbar_button_onclick = function(name) {\n",
       "    if (name == 'download') {\n",
       "        this.handle_save(this, null);\n",
       "    } else {\n",
       "        this.send_message(\"toolbar_button\", {name: name});\n",
       "    }\n",
       "};\n",
       "\n",
       "mpl.figure.prototype.toolbar_button_onmouseover = function(tooltip) {\n",
       "    this.message.textContent = tooltip;\n",
       "};\n",
       "mpl.toolbar_items = [[\"Home\", \"Reset original view\", \"fa fa-home icon-home\", \"home\"], [\"Back\", \"Back to  previous view\", \"fa fa-arrow-left icon-arrow-left\", \"back\"], [\"Forward\", \"Forward to next view\", \"fa fa-arrow-right icon-arrow-right\", \"forward\"], [\"\", \"\", \"\", \"\"], [\"Pan\", \"Pan axes with left mouse, zoom with right\", \"fa fa-arrows icon-move\", \"pan\"], [\"Zoom\", \"Zoom to rectangle\", \"fa fa-square-o icon-check-empty\", \"zoom\"], [\"\", \"\", \"\", \"\"], [\"Download\", \"Download plot\", \"fa fa-floppy-o icon-save\", \"download\"]];\n",
       "\n",
       "mpl.extensions = [\"eps\", \"jpeg\", \"pdf\", \"png\", \"ps\", \"raw\", \"svg\", \"tif\"];\n",
       "\n",
       "mpl.default_extension = \"png\";var comm_websocket_adapter = function(comm) {\n",
       "    // Create a \"websocket\"-like object which calls the given IPython comm\n",
       "    // object with the appropriate methods. Currently this is a non binary\n",
       "    // socket, so there is still some room for performance tuning.\n",
       "    var ws = {};\n",
       "\n",
       "    ws.close = function() {\n",
       "        comm.close()\n",
       "    };\n",
       "    ws.send = function(m) {\n",
       "        //console.log('sending', m);\n",
       "        comm.send(m);\n",
       "    };\n",
       "    // Register the callback with on_msg.\n",
       "    comm.on_msg(function(msg) {\n",
       "        //console.log('receiving', msg['content']['data'], msg);\n",
       "        // Pass the mpl event to the overriden (by mpl) onmessage function.\n",
       "        ws.onmessage(msg['content']['data'])\n",
       "    });\n",
       "    return ws;\n",
       "}\n",
       "\n",
       "mpl.mpl_figure_comm = function(comm, msg) {\n",
       "    // This is the function which gets called when the mpl process\n",
       "    // starts-up an IPython Comm through the \"matplotlib\" channel.\n",
       "\n",
       "    var id = msg.content.data.id;\n",
       "    // Get hold of the div created by the display call when the Comm\n",
       "    // socket was opened in Python.\n",
       "    var element = $(\"#\" + id);\n",
       "    var ws_proxy = comm_websocket_adapter(comm)\n",
       "\n",
       "    function ondownload(figure, format) {\n",
       "        window.open(figure.imageObj.src);\n",
       "    }\n",
       "\n",
       "    var fig = new mpl.figure(id, ws_proxy,\n",
       "                           ondownload,\n",
       "                           element.get(0));\n",
       "\n",
       "    // Call onopen now - mpl needs it, as it is assuming we've passed it a real\n",
       "    // web socket which is closed, not our websocket->open comm proxy.\n",
       "    ws_proxy.onopen();\n",
       "\n",
       "    fig.parent_element = element.get(0);\n",
       "    fig.cell_info = mpl.find_output_cell(\"<div id='\" + id + \"'></div>\");\n",
       "    if (!fig.cell_info) {\n",
       "        console.error(\"Failed to find cell for figure\", id, fig);\n",
       "        return;\n",
       "    }\n",
       "\n",
       "    var output_index = fig.cell_info[2]\n",
       "    var cell = fig.cell_info[0];\n",
       "\n",
       "};\n",
       "\n",
       "mpl.figure.prototype.handle_close = function(fig, msg) {\n",
       "    var width = fig.canvas.width/mpl.ratio\n",
       "    fig.root.unbind('remove')\n",
       "\n",
       "    // Update the output cell to use the data from the current canvas.\n",
       "    fig.push_to_output();\n",
       "    var dataURL = fig.canvas.toDataURL();\n",
       "    // Re-enable the keyboard manager in IPython - without this line, in FF,\n",
       "    // the notebook keyboard shortcuts fail.\n",
       "    IPython.keyboard_manager.enable()\n",
       "    $(fig.parent_element).html('<img src=\"' + dataURL + '\" width=\"' + width + '\">');\n",
       "    fig.close_ws(fig, msg);\n",
       "}\n",
       "\n",
       "mpl.figure.prototype.close_ws = function(fig, msg){\n",
       "    fig.send_message('closing', msg);\n",
       "    // fig.ws.close()\n",
       "}\n",
       "\n",
       "mpl.figure.prototype.push_to_output = function(remove_interactive) {\n",
       "    // Turn the data on the canvas into data in the output cell.\n",
       "    var width = this.canvas.width/mpl.ratio\n",
       "    var dataURL = this.canvas.toDataURL();\n",
       "    this.cell_info[1]['text/html'] = '<img src=\"' + dataURL + '\" width=\"' + width + '\">';\n",
       "}\n",
       "\n",
       "mpl.figure.prototype.updated_canvas_event = function() {\n",
       "    // Tell IPython that the notebook contents must change.\n",
       "    IPython.notebook.set_dirty(true);\n",
       "    this.send_message(\"ack\", {});\n",
       "    var fig = this;\n",
       "    // Wait a second, then push the new image to the DOM so\n",
       "    // that it is saved nicely (might be nice to debounce this).\n",
       "    setTimeout(function () { fig.push_to_output() }, 1000);\n",
       "}\n",
       "\n",
       "mpl.figure.prototype._init_toolbar = function() {\n",
       "    var fig = this;\n",
       "\n",
       "    var nav_element = $('<div/>')\n",
       "    nav_element.attr('style', 'width: 100%');\n",
       "    this.root.append(nav_element);\n",
       "\n",
       "    // Define a callback function for later on.\n",
       "    function toolbar_event(event) {\n",
       "        return fig.toolbar_button_onclick(event['data']);\n",
       "    }\n",
       "    function toolbar_mouse_event(event) {\n",
       "        return fig.toolbar_button_onmouseover(event['data']);\n",
       "    }\n",
       "\n",
       "    for(var toolbar_ind in mpl.toolbar_items){\n",
       "        var name = mpl.toolbar_items[toolbar_ind][0];\n",
       "        var tooltip = mpl.toolbar_items[toolbar_ind][1];\n",
       "        var image = mpl.toolbar_items[toolbar_ind][2];\n",
       "        var method_name = mpl.toolbar_items[toolbar_ind][3];\n",
       "\n",
       "        if (!name) { continue; };\n",
       "\n",
       "        var button = $('<button class=\"btn btn-default\" href=\"#\" title=\"' + name + '\"><i class=\"fa ' + image + ' fa-lg\"></i></button>');\n",
       "        button.click(method_name, toolbar_event);\n",
       "        button.mouseover(tooltip, toolbar_mouse_event);\n",
       "        nav_element.append(button);\n",
       "    }\n",
       "\n",
       "    // Add the status bar.\n",
       "    var status_bar = $('<span class=\"mpl-message\" style=\"text-align:right; float: right;\"/>');\n",
       "    nav_element.append(status_bar);\n",
       "    this.message = status_bar[0];\n",
       "\n",
       "    // Add the close button to the window.\n",
       "    var buttongrp = $('<div class=\"btn-group inline pull-right\"></div>');\n",
       "    var button = $('<button class=\"btn btn-mini btn-primary\" href=\"#\" title=\"Stop Interaction\"><i class=\"fa fa-power-off icon-remove icon-large\"></i></button>');\n",
       "    button.click(function (evt) { fig.handle_close(fig, {}); } );\n",
       "    button.mouseover('Stop Interaction', toolbar_mouse_event);\n",
       "    buttongrp.append(button);\n",
       "    var titlebar = this.root.find($('.ui-dialog-titlebar'));\n",
       "    titlebar.prepend(buttongrp);\n",
       "}\n",
       "\n",
       "mpl.figure.prototype._root_extra_style = function(el){\n",
       "    var fig = this\n",
       "    el.on(\"remove\", function(){\n",
       "\tfig.close_ws(fig, {});\n",
       "    });\n",
       "}\n",
       "\n",
       "mpl.figure.prototype._canvas_extra_style = function(el){\n",
       "    // this is important to make the div 'focusable\n",
       "    el.attr('tabindex', 0)\n",
       "    // reach out to IPython and tell the keyboard manager to turn it's self\n",
       "    // off when our div gets focus\n",
       "\n",
       "    // location in version 3\n",
       "    if (IPython.notebook.keyboard_manager) {\n",
       "        IPython.notebook.keyboard_manager.register_events(el);\n",
       "    }\n",
       "    else {\n",
       "        // location in version 2\n",
       "        IPython.keyboard_manager.register_events(el);\n",
       "    }\n",
       "\n",
       "}\n",
       "\n",
       "mpl.figure.prototype._key_event_extra = function(event, name) {\n",
       "    var manager = IPython.notebook.keyboard_manager;\n",
       "    if (!manager)\n",
       "        manager = IPython.keyboard_manager;\n",
       "\n",
       "    // Check for shift+enter\n",
       "    if (event.shiftKey && event.which == 13) {\n",
       "        this.canvas_div.blur();\n",
       "        event.shiftKey = false;\n",
       "        // Send a \"J\" for go to next cell\n",
       "        event.which = 74;\n",
       "        event.keyCode = 74;\n",
       "        manager.command_mode();\n",
       "        manager.handle_keydown(event);\n",
       "    }\n",
       "}\n",
       "\n",
       "mpl.figure.prototype.handle_save = function(fig, msg) {\n",
       "    fig.ondownload(fig, null);\n",
       "}\n",
       "\n",
       "\n",
       "mpl.find_output_cell = function(html_output) {\n",
       "    // Return the cell and output element which can be found *uniquely* in the notebook.\n",
       "    // Note - this is a bit hacky, but it is done because the \"notebook_saving.Notebook\"\n",
       "    // IPython event is triggered only after the cells have been serialised, which for\n",
       "    // our purposes (turning an active figure into a static one), is too late.\n",
       "    var cells = IPython.notebook.get_cells();\n",
       "    var ncells = cells.length;\n",
       "    for (var i=0; i<ncells; i++) {\n",
       "        var cell = cells[i];\n",
       "        if (cell.cell_type === 'code'){\n",
       "            for (var j=0; j<cell.output_area.outputs.length; j++) {\n",
       "                var data = cell.output_area.outputs[j];\n",
       "                if (data.data) {\n",
       "                    // IPython >= 3 moved mimebundle to data attribute of output\n",
       "                    data = data.data;\n",
       "                }\n",
       "                if (data['text/html'] == html_output) {\n",
       "                    return [cell, data, j];\n",
       "                }\n",
       "            }\n",
       "        }\n",
       "    }\n",
       "}\n",
       "\n",
       "// Register the function which deals with the matplotlib target/channel.\n",
       "// The kernel may be null if the page has been refreshed.\n",
       "if (IPython.notebook.kernel != null) {\n",
       "    IPython.notebook.kernel.comm_manager.register_target('matplotlib', mpl.mpl_figure_comm);\n",
       "}\n"
      ],
      "text/plain": [
       "<IPython.core.display.Javascript object>"
      ]
     },
     "metadata": {
      "tags": []
     },
     "output_type": "display_data"
    },
    {
     "data": {
      "text/html": [
       "<img src=\"data:image/png;base64,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\" width=\"571\">"
      ],
      "text/plain": [
       "<IPython.core.display.HTML object>"
      ]
     },
     "metadata": {
      "tags": []
     },
     "output_type": "display_data"
    }
   ],
   "source": [
    "%matplotlib notebook\n",
    "fig = plt.figure()\n",
    "ax = fig.gca(projection='3d')\n",
    "for i in range(n_data):\n",
    "    if(outputData[i,0]==0):\n",
    "        ax.scatter3D(classESN._X[2][(i*n_features):((i+1)*n_features)], classESN._X[3][(i*n_features):((i+1)*n_features)], classESN._X[4][(i*n_features):((i+1)*n_features)],color=\"blue\")\n",
    "    else:\n",
    "        ax.scatter3D(classESN._X[2][i*n_features:(i+1)*n_features], classESN._X[3][i*n_features:(i+1)*n_features], classESN._X[4][i*n_features:(i+1)*n_features],color=\"orange\")\n",
    "xx, yy = np.meshgrid(np.linspace(-1,1,10), np.linspace(-1,1,10))\n",
    "zz1=(-classESN._W_out[0,2]*xx - classESN._W_out[0,3]*yy)/classESN._W_out[0,4] \n",
    "zz2=(-classESN._W_out[1,2]*xx - classESN._W_out[1,3]*yy)/classESN._W_out[1,4] \n",
    "ax.plot_surface(xx,yy,zz1,color='none',edgecolors='black' ) \n",
    "ax.plot_surface(xx,yy,zz2,color='none',edgecolors='violet' ) \n",
    "ax.plot(normal2[:][0],normal2[:][1],normal2[:][2])\n",
    "ax.plot(normal1[:][0],normal1[:][1],normal1[:][2]) \n",
    "plt.show()\n"
   ]
  },
  {
   "cell_type": "markdown",
   "metadata": {
    "colab_type": "text",
    "id": "swxDJ-I30CD_"
   },
   "source": [
    "## II. ИССЛЕДОВАНИЕ ЗАВИСИМОСТИ БИНАРНОГО КЛАССИФИКАТОРА НА ESN  ОТ СПОСОБА ТЕМПОРАЛИЗАЦИИ ДАННЫХ\n"
   ]
  },
  {
   "cell_type": "markdown",
   "metadata": {
    "colab_type": "text",
    "id": "LZ_YPDIFnY2Y"
   },
   "source": [
    "Генерирование синтезированного набора данных, используя __sklearn.datasets.make_classification()__"
   ]
  },
  {
   "cell_type": "code",
   "execution_count": 0,
   "metadata": {
    "colab": {},
    "colab_type": "code",
    "id": "3ed5bl0y0CEB"
   },
   "outputs": [],
   "source": [
    "n_features=12\n",
    "n_samples=4000\n",
    "n_train=round(0.6*n_samples)\n",
    "n_classes=2\n",
    "inputData,output=db.make_classification(n_samples=n_samples, n_features=n_features, n_informative=8, n_repeated=2,\n",
    "                                            n_classes=n_classes, n_clusters_per_class=2)"
   ]
  },
  {
   "cell_type": "code",
   "execution_count": 0,
   "metadata": {
    "colab": {},
    "colab_type": "code",
    "id": "pCQqrlZa0CED"
   },
   "outputs": [],
   "source": [
    "ohe=OneHotEncoder()\n",
    "outputData=ohe.fit_transform(output)"
   ]
  },
  {
   "cell_type": "code",
   "execution_count": 0,
   "metadata": {
    "colab": {
     "base_uri": "https://localhost:8080/",
     "height": 204
    },
    "colab_type": "code",
    "id": "bl2kZGgH0CEH",
    "outputId": "784ffa43-ab1e-431d-cc7c-f03df6242991"
   },
   "outputs": [
    {
     "data": {
      "text/html": [
       "<div>\n",
       "<style scoped>\n",
       "    .dataframe tbody tr th:only-of-type {\n",
       "        vertical-align: middle;\n",
       "    }\n",
       "\n",
       "    .dataframe tbody tr th {\n",
       "        vertical-align: top;\n",
       "    }\n",
       "\n",
       "    .dataframe thead th {\n",
       "        text-align: right;\n",
       "    }\n",
       "</style>\n",
       "<table border=\"1\" class=\"dataframe\">\n",
       "  <thead>\n",
       "    <tr style=\"text-align: right;\">\n",
       "      <th></th>\n",
       "      <th>f1</th>\n",
       "      <th>f2</th>\n",
       "      <th>f3</th>\n",
       "      <th>f4</th>\n",
       "      <th>f5</th>\n",
       "      <th>f6</th>\n",
       "      <th>f7</th>\n",
       "      <th>f8</th>\n",
       "      <th>f9</th>\n",
       "      <th>f10</th>\n",
       "      <th>f11</th>\n",
       "      <th>f12</th>\n",
       "    </tr>\n",
       "  </thead>\n",
       "  <tbody>\n",
       "    <tr>\n",
       "      <th>class2</th>\n",
       "      <td>-2.053054</td>\n",
       "      <td>2.443958</td>\n",
       "      <td>-1.968354</td>\n",
       "      <td>1.165341</td>\n",
       "      <td>0.429704</td>\n",
       "      <td>-2.553694</td>\n",
       "      <td>2.443958</td>\n",
       "      <td>0.483940</td>\n",
       "      <td>0.483940</td>\n",
       "      <td>0.780988</td>\n",
       "      <td>0.811702</td>\n",
       "      <td>-2.080944</td>\n",
       "    </tr>\n",
       "    <tr>\n",
       "      <th>class1</th>\n",
       "      <td>-0.319072</td>\n",
       "      <td>2.452804</td>\n",
       "      <td>-3.405372</td>\n",
       "      <td>-1.746882</td>\n",
       "      <td>4.166910</td>\n",
       "      <td>-1.960424</td>\n",
       "      <td>2.452804</td>\n",
       "      <td>1.155086</td>\n",
       "      <td>1.155086</td>\n",
       "      <td>-1.386469</td>\n",
       "      <td>2.867087</td>\n",
       "      <td>-6.857929</td>\n",
       "    </tr>\n",
       "    <tr>\n",
       "      <th>class2</th>\n",
       "      <td>-0.555843</td>\n",
       "      <td>-2.964772</td>\n",
       "      <td>-0.433404</td>\n",
       "      <td>-0.937084</td>\n",
       "      <td>-1.951417</td>\n",
       "      <td>2.840781</td>\n",
       "      <td>-2.964772</td>\n",
       "      <td>-1.145518</td>\n",
       "      <td>-1.145518</td>\n",
       "      <td>-0.464212</td>\n",
       "      <td>0.765400</td>\n",
       "      <td>3.007804</td>\n",
       "    </tr>\n",
       "    <tr>\n",
       "      <th>class2</th>\n",
       "      <td>-1.320989</td>\n",
       "      <td>-1.388847</td>\n",
       "      <td>0.954399</td>\n",
       "      <td>-2.160274</td>\n",
       "      <td>1.533514</td>\n",
       "      <td>-3.012560</td>\n",
       "      <td>-1.388847</td>\n",
       "      <td>1.596963</td>\n",
       "      <td>1.596963</td>\n",
       "      <td>-1.706068</td>\n",
       "      <td>2.370854</td>\n",
       "      <td>2.478543</td>\n",
       "    </tr>\n",
       "    <tr>\n",
       "      <th>class2</th>\n",
       "      <td>1.039448</td>\n",
       "      <td>0.602613</td>\n",
       "      <td>-3.678243</td>\n",
       "      <td>-2.446364</td>\n",
       "      <td>0.185505</td>\n",
       "      <td>4.242406</td>\n",
       "      <td>0.602613</td>\n",
       "      <td>1.291237</td>\n",
       "      <td>1.291237</td>\n",
       "      <td>-1.602513</td>\n",
       "      <td>0.536568</td>\n",
       "      <td>-4.261864</td>\n",
       "    </tr>\n",
       "  </tbody>\n",
       "</table>\n",
       "</div>"
      ],
      "text/plain": [
       "              f1        f2        f3        f4        f5        f6        f7  \\\n",
       "class2 -2.053054  2.443958 -1.968354  1.165341  0.429704 -2.553694  2.443958   \n",
       "class1 -0.319072  2.452804 -3.405372 -1.746882  4.166910 -1.960424  2.452804   \n",
       "class2 -0.555843 -2.964772 -0.433404 -0.937084 -1.951417  2.840781 -2.964772   \n",
       "class2 -1.320989 -1.388847  0.954399 -2.160274  1.533514 -3.012560 -1.388847   \n",
       "class2  1.039448  0.602613 -3.678243 -2.446364  0.185505  4.242406  0.602613   \n",
       "\n",
       "              f8        f9       f10       f11       f12  \n",
       "class2  0.483940  0.483940  0.780988  0.811702 -2.080944  \n",
       "class1  1.155086  1.155086 -1.386469  2.867087 -6.857929  \n",
       "class2 -1.145518 -1.145518 -0.464212  0.765400  3.007804  \n",
       "class2  1.596963  1.596963 -1.706068  2.370854  2.478543  \n",
       "class2  1.291237  1.291237 -1.602513  0.536568 -4.261864  "
      ]
     },
     "execution_count": 20,
     "metadata": {
      "tags": []
     },
     "output_type": "execute_result"
    }
   ],
   "source": [
    "showData=DataFrame(inputData)\n",
    "names=[]\n",
    "for i in range(n_features):\n",
    "    names.append('f'+str(i+1))\n",
    "showData.columns=names\n",
    "for i in range(5):\n",
    "    if(outputData[i,0]==0):\n",
    "        showData.rename(index={i:'class1'}, inplace=True)\n",
    "    else:\n",
    "        showData.rename(index={i:'class2'}, inplace=True)\n",
    "showData.columns=names\n",
    "showData.head()"
   ]
  },
  {
   "cell_type": "code",
   "execution_count": 0,
   "metadata": {
    "colab": {
     "base_uri": "https://localhost:8080/",
     "height": 329
    },
    "colab_type": "code",
    "id": "XGrrIpBr0CEK",
    "outputId": "c195d689-a756-4abb-ae2e-d17a162022ad"
   },
   "outputs": [
    {
     "name": "stdout",
     "output_type": "stream",
     "text": [
      "0    1192\n",
      "1    1208\n",
      "dtype: int64\n"
     ]
    },
    {
     "data": {
      "image/png": "[encoded data removed]",
      "text/plain": [
       "<matplotlib.figure.Figure at 0x1125a6a0>"
      ]
     },
     "metadata": {
      "needs_background": "light",
      "tags": []
     },
     "output_type": "display_data"
    }
   ],
   "source": [
    "%matplotlib inline\n",
    "frame=DataFrame(outputData[:n_train])\n",
    "print(frame[lambda x: x==1].count())\n",
    "frame[lambda x: x==1].count().plot.bar()\n",
    "plt.title(\"Distribution of class instances\")\n",
    "plt.savefig(os.path.join(folderName, 'distribution.png'), format='png', dpi=200)\n",
    "plt.show()"
   ]
  },
  {
   "cell_type": "code",
   "execution_count": 0,
   "metadata": {
    "colab": {},
    "colab_type": "code",
    "id": "QbL9LQjlmAdJ"
   },
   "outputs": [],
   "source": [
    "label=np.array(range(n_classes))\n",
    "h=OneHotEncoder()\n",
    "label=h.fit_transform(label)"
   ]
  },
  {
   "cell_type": "markdown",
   "metadata": {
    "colab_type": "text",
    "id": "eKm9uvSn0CEO"
   },
   "source": [
    "<b> Проведем классификацию на полученных данных с помощью решающих деревьев"
   ]
  },
  {
   "cell_type": "markdown",
   "metadata": {
    "colab_type": "text",
    "id": "S46sLqsEnY2x"
   },
   "source": [
    "используем __xgboost.XGBClassifier() __"
   ]
  },
  {
   "cell_type": "code",
   "execution_count": 0,
   "metadata": {
    "colab": {
     "base_uri": "https://localhost:8080/",
     "height": 119
    },
    "colab_type": "code",
    "id": "CzkUm9Im0CEP",
    "outputId": "7efe7bb5-1044-4c02-fab3-be64c9f32f4f",
    "scrolled": false
   },
   "outputs": [
    {
     "data": {
      "text/plain": [
       "XGBClassifier(base_score=0.5, booster='gbtree', colsample_bylevel=1,\n",
       "       colsample_bytree=1, gamma=0, learning_rate=0.1, max_delta_step=0,\n",
       "       max_depth=3, min_child_weight=1, missing=None, n_estimators=100,\n",
       "       n_jobs=1, nthread=None, objective='binary:logistic', random_state=0,\n",
       "       reg_alpha=0, reg_lambda=1, scale_pos_weight=1, seed=None,\n",
       "       silent=True, subsample=1)"
      ]
     },
     "execution_count": 23,
     "metadata": {
      "tags": []
     },
     "output_type": "execute_result"
    }
   ],
   "source": [
    "model = xgboost.XGBClassifier()\n",
    "model.fit(inputData[:n_train],output[:n_train])"
   ]
  },
  {
   "cell_type": "code",
   "execution_count": 0,
   "metadata": {
    "colab": {},
    "colab_type": "code",
    "id": "H5aN7ct20CET"
   },
   "outputs": [],
   "source": [
    "predicted_xgb = model.predict(inputData[n_train:])"
   ]
  },
  {
   "cell_type": "code",
   "execution_count": 0,
   "metadata": {
    "colab": {
     "base_uri": "https://localhost:8080/",
     "height": 34
    },
    "colab_type": "code",
    "id": "63baV2Wl0CEX",
    "outputId": "b2beada9-78a2-4c5e-8032-9b0a5dd05730"
   },
   "outputs": [
    {
     "name": "stdout",
     "output_type": "stream",
     "text": [
      "0.93125\n"
     ]
    }
   ],
   "source": [
    "cnf_xgb=confusion_matrix(output[n_train:],predicted_xgb)#confusion matrix\n",
    "acc_xg_synth=accuracy_score(output[n_train:],predicted_xgb)#accurasy score\n",
    "print(acc_xg_synth)"
   ]
  },
  {
   "cell_type": "code",
   "execution_count": 0,
   "metadata": {
    "colab": {
     "base_uri": "https://localhost:8080/",
     "height": 368
    },
    "colab_type": "code",
    "id": "x6ndF2MDmAda",
    "outputId": "dbf48fd2-ae03-4296-9b21-72da9faa9e47"
   },
   "outputs": [
    {
     "name": "stdout",
     "output_type": "stream",
     "text": [
      "Confusion matrix, without normalization  1490\n"
     ]
    },
    {
     "data": {
      "image/png": "[encoded data removed]",
      "text/plain": [
       "<matplotlib.figure.Figure at 0x10f08400>"
      ]
     },
     "metadata": {
      "needs_background": "light",
      "tags": []
     },
     "output_type": "display_data"
    }
   ],
   "source": [
    "plt.figure()\n",
    "plot_confusion_matrix(cnf_xgb, classes=label,title='Confusion matrix, accuracy = '+str(acc_xg_synth))\n",
    "plt.savefig(os.path.join(folderName, 'xgcnfSynth.png'), dpi=200)\n",
    "plt.show()"
   ]
  },
  {
   "cell_type": "markdown",
   "metadata": {
    "colab_type": "text",
    "id": "6NSPLO-30CEa"
   },
   "source": [
    "#### Исследуем важность признаков с помощь xgboost.plot_importance"
   ]
  },
  {
   "cell_type": "markdown",
   "metadata": {
    "colab_type": "text",
    "id": "seR9a_iMnY3D"
   },
   "source": [
    "В качестве критерия важности используем __weight__ т.е. кол-во раз, когда признак используется для разделения ветвей дерева \n"
   ]
  },
  {
   "cell_type": "code",
   "execution_count": 0,
   "metadata": {
    "colab": {
     "base_uri": "https://localhost:8080/",
     "height": 295
    },
    "colab_type": "code",
    "id": "9ZzxTLx30CEb",
    "outputId": "6fb8671d-1b05-45b1-fd2a-5c581e1f6a0c",
    "scrolled": true
   },
   "outputs": [
    {
     "data": {
      "image/png": "[encoded data removed]",
      "text/plain": [
       "<matplotlib.figure.Figure at 0x165c0f60>"
      ]
     },
     "metadata": {
      "needs_background": "light",
      "tags": []
     },
     "output_type": "display_data"
    }
   ],
   "source": [
    "model.importance_type=\"weight\"\n",
    "xgboost.plot_importance(model,importance_type='weight',max_num_features=14)\n",
    "plt.savefig('importance.png', format='png', dpi=200)\n",
    "plt.show()"
   ]
  },
  {
   "cell_type": "markdown",
   "metadata": {
    "colab_type": "text",
    "id": "pf9MTJS50CEh"
   },
   "source": [
    "<b>Получим список признаков, отсортированный по важности ( importance_type=weight)<b/>"
   ]
  },
  {
   "cell_type": "code",
   "execution_count": 0,
   "metadata": {
    "colab": {},
    "colab_type": "code",
    "id": "3XT-bkxd0CEe",
    "outputId": "e23bb1c2-34be-4467-8b8b-e15f64fdbecf"
   },
   "outputs": [
    {
     "name": "stdout",
     "output_type": "stream",
     "text": [
      "[ 6  8  5  9  1  0  2  4 11  7  3 10]\n"
     ]
    }
   ],
   "source": [
    "featlist=model.feature_importances_.argsort()\n",
    "print(featlist)"
   ]
  },
  {
   "cell_type": "markdown",
   "metadata": {
    "colab_type": "text",
    "id": "nPJ0C6T60CEl"
   },
   "source": [
    "### Модель бинарного классификатора на ESN"
   ]
  },
  {
   "cell_type": "markdown",
   "metadata": {
    "colab_type": "text",
    "id": "soenQjl0nY3S"
   },
   "source": [
    "Создадим объект __ClassificationESN__ с резервуаром размерности 300"
   ]
  },
  {
   "cell_type": "code",
   "execution_count": 0,
   "metadata": {
    "colab": {},
    "colab_type": "code",
    "id": "dGITZcAH0CEm"
   },
   "outputs": [],
   "source": [
    "cls=ClassificationESN(1,300, n_classes)"
   ]
  },
  {
   "cell_type": "code",
   "execution_count": 0,
   "metadata": {
    "colab": {
     "base_uri": "https://localhost:8080/",
     "height": 34
    },
    "colab_type": "code",
    "id": "_pJytNZI0CEp",
    "outputId": "9f6fb6b1-7b32-4985-b09b-a73264b8af70"
   },
   "outputs": [
    {
     "data": {
      "text/plain": [
       "0.8079875034312648"
      ]
     },
     "execution_count": 30,
     "metadata": {
      "tags": []
     },
     "output_type": "execute_result"
    }
   ],
   "source": [
    "cls.fit(inputData[:n_train],outputData[:n_train])"
   ]
  },
  {
   "cell_type": "code",
   "execution_count": 0,
   "metadata": {
    "colab": {},
    "colab_type": "code",
    "id": "f_Ugd34P0CEt",
    "scrolled": true
   },
   "outputs": [],
   "source": [
    "predicted_esn=cls.predict(inputData[n_train:])"
   ]
  },
  {
   "cell_type": "code",
   "execution_count": 0,
   "metadata": {
    "colab": {},
    "colab_type": "code",
    "id": "5lwrK6hLnY3l",
    "outputId": "91119e45-8d73-49c3-90bb-6940cac69209"
   },
   "outputs": [
    {
     "data": {
      "text/plain": [
       "array([[678, 127],\n",
       "       [ 88, 707]], dtype=int64)"
      ]
     },
     "execution_count": 32,
     "metadata": {
      "tags": []
     },
     "output_type": "execute_result"
    }
   ],
   "source": [
    "confusion_matrix(np.argmax(outputData[n_train:],axis=1),np.argmax(predicted_esn,axis=1))"
   ]
  },
  {
   "cell_type": "code",
   "execution_count": 0,
   "metadata": {
    "colab": {
     "base_uri": "https://localhost:8080/",
     "height": 34
    },
    "colab_type": "code",
    "id": "gOg_pxvJ0CEx",
    "outputId": "c42b57ae-be08-4628-c892-8154fc0dd1b3"
   },
   "outputs": [
    {
     "data": {
      "text/plain": [
       "0.86562499999999998"
      ]
     },
     "execution_count": 33,
     "metadata": {
      "tags": []
     },
     "output_type": "execute_result"
    }
   ],
   "source": [
    "accuracy_score(np.argmax(outputData[n_train:],axis=1),np.argmax(predicted_esn,axis=1))"
   ]
  },
  {
   "cell_type": "markdown",
   "metadata": {
    "colab_type": "text",
    "id": "FuEbsWvS0CE1"
   },
   "source": [
    "С помощью __GridSearchOptimizer__ получим наиболее подходящие настройки параметров для объекта ClassificationESN"
   ]
  },
  {
   "cell_type": "code",
   "execution_count": 0,
   "metadata": {
    "colab": {},
    "colab_type": "code",
    "id": "R1z-wjml0CE2"
   },
   "outputs": [],
   "source": [
    "_parametersDictionary={'leakingRate':np.linspace(0.1,0.9,25),\n",
    "                       #'reservoirDensity':np.linspace(0.5,1,2)\n",
    "                      }\n",
    "_fixedParametersDictionary={'n_input':1, 'n_reservoir':300, 'n_classes':2}"
   ]
  },
  {
   "cell_type": "code",
   "execution_count": 0,
   "metadata": {
    "colab": {},
    "colab_type": "code",
    "id": "ReFJ8_aZ0CE5"
   },
   "outputs": [],
   "source": [
    "opt=GridSearchOptimizer(type(cls), parametersDictionary=_parametersDictionary,\n",
    "                        fixedParametersDictionary=_fixedParametersDictionary)"
   ]
  },
  {
   "cell_type": "code",
   "execution_count": 0,
   "metadata": {
    "colab": {
     "base_uri": "https://localhost:8080/",
     "height": 459
    },
    "colab_type": "code",
    "id": "sd9KJ0Lz0CE9",
    "outputId": "b022ffe2-769f-442c-ff61-26bc9c29365c"
   },
   "outputs": [
    {
     "name": "stderr",
     "output_type": "stream",
     "text": [
      "100% (25 of 25) |#########| Elapsed Time: 0:03:17 Time:  0:03:17 Loss:\t1.31E-01\n"
     ]
    },
    {
     "data": {
      "text/plain": [
       "[(0.1525, 0.7623331298940336, {'leakingRate': 0.1}),\n",
       " (0.1525, 0.8031532565232986, {'leakingRate': 0.13333333333333333}),\n",
       " (0.151875, 0.8030579329957289, {'leakingRate': 0.16666666666666669}),\n",
       " (0.14875, 0.7992653149822178, {'leakingRate': 0.2}),\n",
       " (0.149375, 0.8334184481898819, {'leakingRate': 0.23333333333333334}),\n",
       " (0.14125, 0.7492687638293403, {'leakingRate': 0.26666666666666666}),\n",
       " (0.1475, 0.7167735905645071, {'leakingRate': 0.30000000000000004}),\n",
       " (0.141875, 0.750896454316533, {'leakingRate': 0.33333333333333337}),\n",
       " (0.144375, 0.8115109623979632, {'leakingRate': 0.3666666666666667}),\n",
       " (0.146875, 0.7716737091577897, {'leakingRate': 0.4}),\n",
       " (0.156875, 0.7850183651734556, {'leakingRate': 0.43333333333333335}),\n",
       " (0.136875, 0.7595516296003239, {'leakingRate': 0.4666666666666667}),\n",
       " (0.1575, 0.7290308318277072, {'leakingRate': 0.5}),\n",
       " (0.14375, 0.7542390589003515, {'leakingRate': 0.5333333333333333}),\n",
       " (0.1475, 0.7802336363963637, {'leakingRate': 0.5666666666666667}),\n",
       " (0.14, 0.7557876466431046, {'leakingRate': 0.6}),\n",
       " (0.143125, 0.7190670102134049, {'leakingRate': 0.6333333333333333}),\n",
       " (0.130625, 0.7634605250366308, {'leakingRate': 0.6666666666666666}),\n",
       " (0.15125, 0.7903820507508378, {'leakingRate': 0.7}),\n",
       " (0.15, 0.6924284991765408, {'leakingRate': 0.7333333333333333}),\n",
       " (0.149375, 0.737937523526385, {'leakingRate': 0.7666666666666666}),\n",
       " (0.153125, 0.7463860143650892, {'leakingRate': 0.7999999999999999}),\n",
       " (0.1475, 0.7090842151088192, {'leakingRate': 0.8333333333333333}),\n",
       " (0.158125, 0.6993248237026556, {'leakingRate': 0.8666666666666666}),\n",
       " (0.1475, 0.7182820875773794, {'leakingRate': 0.9})]"
      ]
     },
     "execution_count": 38,
     "metadata": {
      "tags": []
     },
     "output_type": "execute_result"
    }
   ],
   "source": [
    "opt.fit(inputData[:n_train],outputData[:n_train],inputData[n_train:],outputData[n_train:],transientTime=0)"
   ]
  },
  {
   "cell_type": "code",
   "execution_count": 0,
   "metadata": {
    "colab": {
     "base_uri": "https://localhost:8080/",
     "height": 34
    },
    "colab_type": "code",
    "id": "-InXSfi50CFB",
    "outputId": "6562c4b7-00d8-458c-d0a7-3021313cb88c"
   },
   "outputs": [
    {
     "data": {
      "text/plain": [
       "{'leakingRate': 0.6666666666666666}"
      ]
     },
     "execution_count": 39,
     "metadata": {
      "tags": []
     },
     "output_type": "execute_result"
    }
   ],
   "source": [
    "best_arg=opt._best_params\n",
    "best_arg"
   ]
  },
  {
   "cell_type": "markdown",
   "metadata": {
    "colab_type": "text",
    "id": "1mEWlalunY4N"
   },
   "source": [
    "<b>optimized leaking rate = 0.6666666666666666"
   ]
  },
  {
   "cell_type": "code",
   "execution_count": 0,
   "metadata": {
    "colab": {},
    "colab_type": "code",
    "id": "XKZChs4n0CFG"
   },
   "outputs": [],
   "source": [
    "optimized_Cls=ClassificationESN(1,300, n_classes,#inputDensity= opt._best_params['inputDensity'],\n",
    "                leakingRate=0.6666666666666666,\n",
    "                #reservoirDensity=best_arg['reservoirDensity'],\n",
    "                        )"
   ]
  },
  {
   "cell_type": "code",
   "execution_count": 0,
   "metadata": {
    "colab": {
     "base_uri": "https://localhost:8080/",
     "height": 34
    },
    "colab_type": "code",
    "id": "bNYwyzJh0CFK",
    "outputId": "57bd77c7-12cb-42c6-b8a7-d3541cb067d8",
    "scrolled": true
   },
   "outputs": [
    {
     "data": {
      "text/plain": [
       "0.86795325080312757"
      ]
     },
     "execution_count": 35,
     "metadata": {
      "tags": []
     },
     "output_type": "execute_result"
    }
   ],
   "source": [
    "optimized_Cls.fit(inputData[:n_train],outputData[:n_train])"
   ]
  },
  {
   "cell_type": "code",
   "execution_count": 0,
   "metadata": {
    "colab": {},
    "colab_type": "code",
    "id": "cl1rcqWy0CFf"
   },
   "outputs": [],
   "source": [
    "cls=optimized_Cls"
   ]
  },
  {
   "cell_type": "code",
   "execution_count": 0,
   "metadata": {
    "colab": {},
    "colab_type": "code",
    "id": "RIEvR6az0CFO",
    "scrolled": false
   },
   "outputs": [],
   "source": [
    "predicted_esn=cls.predict(inputData[n_train:])"
   ]
  },
  {
   "cell_type": "code",
   "execution_count": 0,
   "metadata": {
    "colab": {},
    "colab_type": "code",
    "id": "SH10wlg80CFS"
   },
   "outputs": [],
   "source": [
    "cnf_matrix=confusion_matrix(np.argmax(outputData[n_train:],axis=1),np.argmax(predicted_esn,axis=1))\n",
    "acc_synth=accuracy_score(np.argmax(outputData[n_train:],axis=1),np.argmax(predicted_esn,axis=1))"
   ]
  },
  {
   "cell_type": "code",
   "execution_count": 0,
   "metadata": {
    "colab": {
     "base_uri": "https://localhost:8080/",
     "height": 351
    },
    "colab_type": "code",
    "id": "7mKqWqT10CFl",
    "outputId": "bfc9d9f1-a23a-4a09-fe7e-8a8a1f7f95e2"
   },
   "outputs": [
    {
     "name": "stdout",
     "output_type": "stream",
     "text": [
      "Confusion matrix, without normalization  1433\n"
     ]
    },
    {
     "data": {
      "image/png": "[encoded data removed]",
      "text/plain": [
       "<matplotlib.figure.Figure at 0x1689aa58>"
      ]
     },
     "metadata": {
      "needs_background": "light",
      "tags": []
     },
     "output_type": "display_data"
    }
   ],
   "source": [
    "# Plot non-normalized confusion matrix\n",
    "plt.figure()\n",
    "plot_confusion_matrix(cnf_matrix, classes=label,title='Confusion matrix, accuracy = '+str(acc_synth))\n",
    "plt.savefig(os.path.join(folderName, 'cnfSynth.png'), format='png', dpi=200)\n",
    "plt.show()"
   ]
  },
  {
   "cell_type": "code",
   "execution_count": 0,
   "metadata": {
    "colab": {},
    "colab_type": "code",
    "id": "Tj-JO2ZG0CFX",
    "outputId": "ed92f43c-0d89-4cd1-e71d-ea934f56f58d"
   },
   "outputs": [
    {
     "data": {
      "image/png": "[encoded data removed]",
      "text/plain": [
       "<matplotlib.figure.Figure at 0x1128de10>"
      ]
     },
     "metadata": {
      "needs_background": "light",
      "tags": []
     },
     "output_type": "display_data"
    }
   ],
   "source": [
    "skplt.metrics.plot_roc(np.argmax(outputData[n_train:],axis=1),predicted_esn,\n",
    "                       classes_to_plot=[1],plot_micro=False,plot_macro =False)\n",
    "plt.savefig(os.path.join(folderName, 'notempoSynth.png'), format='png', dpi=200)\n",
    "plt.show()"
   ]
  },
  {
   "cell_type": "markdown",
   "metadata": {
    "colab_type": "text",
    "id": "qOVzn8dt0CFr"
   },
   "source": [
    "<b> Использую метод темпорализации, в котором последовательность признаков является временной последовотельностью, т.е. значение каждого признака интерпретируется как отсчет в некоторый момент времени. При изменении порядка признаков в наборе данных (столбцы в InputData), опираясь на важность признаков, будет изменяться временной ряд."
   ]
  },
  {
   "cell_type": "code",
   "execution_count": 0,
   "metadata": {
    "colab": {
     "base_uri": "https://localhost:8080/",
     "height": 311
    },
    "colab_type": "code",
    "id": "tQr7Xh6F0CFs",
    "outputId": "691b8cdc-693a-4733-b16a-69760ab87d1b"
   },
   "outputs": [
    {
     "data": {
      "text/plain": [
       "<matplotlib.axes._subplots.AxesSubplot at 0x16b5e518>"
      ]
     },
     "execution_count": 41,
     "metadata": {
      "tags": []
     },
     "output_type": "execute_result"
    },
    {
     "data": {
      "image/png": "[encoded data removed]",
      "text/plain": [
       "<matplotlib.figure.Figure at 0x168b2160>"
      ]
     },
     "metadata": {
      "needs_background": "light",
      "tags": []
     },
     "output_type": "display_data"
    }
   ],
   "source": [
    "xgboost.plot_importance(model)"
   ]
  },
  {
   "cell_type": "code",
   "execution_count": 0,
   "metadata": {
    "colab": {
     "base_uri": "https://localhost:8080/",
     "height": 34
    },
    "colab_type": "code",
    "id": "Icie8RiAGTm2",
    "outputId": "9c8b379e-9728-49a9-cd7e-972fc6c3f209"
   },
   "outputs": [
    {
     "data": {
      "text/plain": [
       "array([ 6,  8,  5,  9,  1,  0,  2,  4, 11,  7,  3, 10], dtype=int64)"
      ]
     },
     "execution_count": 42,
     "metadata": {
      "tags": []
     },
     "output_type": "execute_result"
    }
   ],
   "source": [
    "featlist"
   ]
  },
  {
   "cell_type": "markdown",
   "metadata": {
    "colab_type": "text",
    "id": "pBypdV_n0CFv"
   },
   "source": [
    "<b> Меняем первые два признака по importance"
   ]
  },
  {
   "cell_type": "code",
   "execution_count": 0,
   "metadata": {
    "colab": {},
    "colab_type": "code",
    "id": "e_8Yh7ku0CFw"
   },
   "outputs": [],
   "source": [
    "changed1st2d=inputData.copy()\n",
    "changed1st2d[:,featlist[-1]],changed1st2d[:,featlist[-2]]=changed1st2d[:,featlist[-2]],changed1st2d[:,featlist[-1]].copy()"
   ]
  },
  {
   "cell_type": "code",
   "execution_count": 0,
   "metadata": {
    "colab": {
     "base_uri": "https://localhost:8080/",
     "height": 34
    },
    "colab_type": "code",
    "id": "44ZmNvHT0CFz",
    "outputId": "186ecf8a-8c00-42ef-d648-6bb3a44bd6aa"
   },
   "outputs": [
    {
     "data": {
      "text/plain": [
       "0.91100212982991413"
      ]
     },
     "execution_count": 44,
     "metadata": {
      "tags": []
     },
     "output_type": "execute_result"
    }
   ],
   "source": [
    "cls.fit(changed1st2d[:n_train],outputData[:n_train])"
   ]
  },
  {
   "cell_type": "code",
   "execution_count": 0,
   "metadata": {
    "colab": {
     "base_uri": "https://localhost:8080/",
     "height": 51
    },
    "colab_type": "code",
    "id": "_jA_Gp6c0CF2",
    "outputId": "c040c33d-ffc0-4f14-ae7a-e4c3d347855a"
   },
   "outputs": [
    {
     "data": {
      "text/plain": [
       "array([[666, 139],\n",
       "       [121, 674]], dtype=int64)"
      ]
     },
     "execution_count": 45,
     "metadata": {
      "tags": []
     },
     "output_type": "execute_result"
    }
   ],
   "source": [
    "pred_1st2d=cls.predict(changed1st2d[n_train:])\n",
    "cnf_1st2d=confusion_matrix(np.argmax(outputData[n_train:],axis=1),np.argmax(pred_1st2d,axis=1))\n",
    "cnf_1st2d"
   ]
  },
  {
   "cell_type": "code",
   "execution_count": 0,
   "metadata": {
    "colab": {
     "base_uri": "https://localhost:8080/",
     "height": 34
    },
    "colab_type": "code",
    "id": "DxVeabAo0CF9",
    "outputId": "fcf6bb0a-706a-4047-b7aa-0ce8cfd50dd2"
   },
   "outputs": [
    {
     "name": "stdout",
     "output_type": "stream",
     "text": [
      "0.8375\n"
     ]
    }
   ],
   "source": [
    "acc_1st2nd=accuracy_score(np.argmax(outputData[n_train:],axis=1),np.argmax(pred_1st2d,axis=1))\n",
    "print(acc_1st2nd)"
   ]
  },
  {
   "cell_type": "code",
   "execution_count": 0,
   "metadata": {
    "colab": {
     "base_uri": "https://localhost:8080/",
     "height": 351
    },
    "colab_type": "code",
    "id": "RFo-axw20CF5",
    "outputId": "5d64183e-aa90-494d-8da9-b99111f489e7"
   },
   "outputs": [
    {
     "name": "stdout",
     "output_type": "stream",
     "text": [
      "Confusion matrix, without normalization  1340\n"
     ]
    },
    {
     "data": {
      "image/png": "[encoded data removed]",
      "text/plain": [
       "<matplotlib.figure.Figure at 0x16e35438>"
      ]
     },
     "metadata": {
      "needs_background": "light",
      "tags": []
     },
     "output_type": "display_data"
    }
   ],
   "source": [
    "plt.figure()\n",
    "plot_confusion_matrix(cnf_1st2d, classes=label,title='Confusion matrix, accuracy = '+str(acc_1st2nd))\n",
    "plt.savefig(os.path.join(folderName, '1st2ndcnfSynth.png'), format='png', dpi=200)\n",
    "plt.show()"
   ]
  },
  {
   "cell_type": "code",
   "execution_count": 0,
   "metadata": {
    "colab": {
     "base_uri": "https://localhost:8080/",
     "height": 265
    },
    "colab_type": "code",
    "id": "-5PaFs8jHkGj",
    "outputId": "f65e4a77-332a-4901-bcd4-9a3384d36ee0"
   },
   "outputs": [
    {
     "data": {
      "image/png": "[encoded data removed]",
      "text/plain": [
       "<matplotlib.figure.Figure at 0x16e3a3c8>"
      ]
     },
     "metadata": {
      "needs_background": "light",
      "tags": []
     },
     "output_type": "display_data"
    }
   ],
   "source": [
    "skplt.metrics.plot_roc(np.argmax(outputData[n_train:],axis=1),pred_1st2d,classes_to_plot=[1],plot_micro=False,plot_macro =False)\n",
    "plt.savefig(os.path.join(folderName, '1st2ndSynth.png'), format='png', dpi=200)\n",
    "plt.show() "
   ]
  },
  {
   "cell_type": "markdown",
   "metadata": {
    "colab_type": "text",
    "id": "WR-MpBZ90CGA"
   },
   "source": [
    "####  Меняем первый признак с последним по importance "
   ]
  },
  {
   "cell_type": "code",
   "execution_count": 0,
   "metadata": {
    "colab": {},
    "colab_type": "code",
    "id": "GX3d3n-90CGA"
   },
   "outputs": [],
   "source": [
    "changed1stEnd=inputData.copy()\n",
    "changed1stEnd[:,featlist[0]],changed1stEnd[:,featlist[-1]]=changed1stEnd[:,featlist[-1]],changed1stEnd[:,featlist[0]].copy()"
   ]
  },
  {
   "cell_type": "code",
   "execution_count": 0,
   "metadata": {
    "colab": {
     "base_uri": "https://localhost:8080/",
     "height": 34
    },
    "colab_type": "code",
    "id": "DEAOEDCs0CGE",
    "outputId": "9fdd59bd-8691-435b-eb7b-59bd9157c80e"
   },
   "outputs": [
    {
     "data": {
      "text/plain": [
       "0.64378617523194637"
      ]
     },
     "execution_count": 100,
     "metadata": {
      "tags": []
     },
     "output_type": "execute_result"
    }
   ],
   "source": [
    "cls.fit(changed1stEnd[:n_train],outputData[:n_train])"
   ]
  },
  {
   "cell_type": "code",
   "execution_count": 0,
   "metadata": {
    "colab": {
     "base_uri": "https://localhost:8080/",
     "height": 51
    },
    "colab_type": "code",
    "id": "be8wmwis0CGI",
    "outputId": "bda48135-289f-4668-ee7e-180d582aa522"
   },
   "outputs": [
    {
     "data": {
      "text/plain": [
       "array([[627, 146],\n",
       "       [178, 649]], dtype=int64)"
      ]
     },
     "execution_count": 101,
     "metadata": {
      "tags": []
     },
     "output_type": "execute_result"
    }
   ],
   "source": [
    "pred_1stEnd=cls.predict(changed1stEnd[n_train:])\n",
    "cnf_1stEnd=confusion_matrix(np.argmax(outputData[n_train:],axis=1),np.argmax(pred_1stEnd,axis=1))\n",
    "cnf_1stEnd"
   ]
  },
  {
   "cell_type": "code",
   "execution_count": 0,
   "metadata": {
    "colab": {
     "base_uri": "https://localhost:8080/",
     "height": 34
    },
    "colab_type": "code",
    "id": "3xOc3pbe0CGP",
    "outputId": "39f7cfe5-0cd7-4a52-e83f-007c6e519b1a"
   },
   "outputs": [
    {
     "name": "stdout",
     "output_type": "stream",
     "text": [
      "0.7975\n"
     ]
    }
   ],
   "source": [
    "acc_1stEnd=accuracy_score(np.argmax(outputData[n_train:],axis=1),np.argmax(pred_1stEnd,axis=1))\n",
    "print(acc_1stEnd)"
   ]
  },
  {
   "cell_type": "code",
   "execution_count": 0,
   "metadata": {
    "colab": {
     "base_uri": "https://localhost:8080/",
     "height": 351
    },
    "colab_type": "code",
    "id": "N6NhtQBi0CGL",
    "outputId": "0dbc74e4-ea06-414c-f3b2-d0e410baf04f"
   },
   "outputs": [
    {
     "name": "stdout",
     "output_type": "stream",
     "text": [
      "Confusion matrix, without normalization  1276\n"
     ]
    },
    {
     "data": {
      "image/png": "[encoded data removed]",
      "text/plain": [
       "<matplotlib.figure.Figure at 0x15d6b0f0>"
      ]
     },
     "metadata": {
      "needs_background": "light",
      "tags": []
     },
     "output_type": "display_data"
    }
   ],
   "source": [
    "plt.figure()\n",
    "plot_confusion_matrix(cnf_1stEnd, classes=label,title='Confusion matrix, accuracy = '+str(acc_1stEnd))\n",
    "plt.savefig(os.path.join(folderName, '1stEndcnfSynth.png'), format='png', dpi=200)\n",
    "plt.show()"
   ]
  },
  {
   "cell_type": "code",
   "execution_count": 0,
   "metadata": {
    "colab": {
     "base_uri": "https://localhost:8080/",
     "height": 265
    },
    "colab_type": "code",
    "id": "NFqmvduRHxbg",
    "outputId": "e66e666c-a83b-4620-b1a1-6b0e4d67bbf0"
   },
   "outputs": [
    {
     "data": {
      "image/png": "[encoded data removed]",
      "text/plain": [
       "<matplotlib.figure.Figure at 0x15e16780>"
      ]
     },
     "metadata": {
      "needs_background": "light",
      "tags": []
     },
     "output_type": "display_data"
    }
   ],
   "source": [
    "skplt.metrics.plot_roc(np.argmax(outputData[n_train:],axis=1),pred_1stEnd,classes_to_plot=[1],plot_micro=False,plot_macro =False)\n",
    "plt.savefig(os.path.join(folderName, '1stEndSynth.png'), format='png', dpi=200)\n",
    "plt.show() "
   ]
  },
  {
   "cell_type": "markdown",
   "metadata": {
    "colab_type": "text",
    "id": "b5YyiCu3mAfk"
   },
   "source": [
    "#### По порядку importance"
   ]
  },
  {
   "cell_type": "code",
   "execution_count": 0,
   "metadata": {
    "colab": {},
    "colab_type": "code",
    "id": "U7hMVQG0mAfm"
   },
   "outputs": [],
   "source": [
    "copy=inputData.copy()\n",
    "ordered=inputData.copy()\n",
    "for i in range(inputData.shape[1]):\n",
    "    ordered[:,i]=copy[:,featlist[i]]"
   ]
  },
  {
   "cell_type": "code",
   "execution_count": 0,
   "metadata": {
    "colab": {},
    "colab_type": "code",
    "id": "1rNuJyoVmAfp",
    "outputId": "6fdd24ab-a8d0-45de-80c8-223d246076eb"
   },
   "outputs": [
    {
     "data": {
      "text/plain": [
       "0.64106671473334642"
      ]
     },
     "execution_count": 107,
     "metadata": {
      "tags": []
     },
     "output_type": "execute_result"
    }
   ],
   "source": [
    "cls.fit(ordered[:n_train],outputData[:n_train])"
   ]
  },
  {
   "cell_type": "code",
   "execution_count": 0,
   "metadata": {
    "colab": {},
    "colab_type": "code",
    "id": "m1knL8yomAfw",
    "outputId": "8ab5bfa1-2a41-4757-9b64-0e97885ebf99"
   },
   "outputs": [
    {
     "data": {
      "text/plain": [
       "array([[630, 143],\n",
       "       [216, 611]], dtype=int64)"
      ]
     },
     "execution_count": 109,
     "metadata": {
      "tags": []
     },
     "output_type": "execute_result"
    }
   ],
   "source": [
    "pred_ord=cls.predict(ordered[n_train:])\n",
    "cnf_ord=confusion_matrix(np.argmax(outputData[n_train:],axis=1),np.argmax(pred_ord,axis=1))\n",
    "cnf_ord"
   ]
  },
  {
   "cell_type": "code",
   "execution_count": 0,
   "metadata": {
    "colab": {},
    "colab_type": "code",
    "id": "Lpqc1LYgmAf3",
    "outputId": "677b9bb6-e294-44d2-bfc2-20848b4b91dd"
   },
   "outputs": [
    {
     "name": "stdout",
     "output_type": "stream",
     "text": [
      "0.775625\n"
     ]
    }
   ],
   "source": [
    "acc_ord=accuracy_score(np.argmax(outputData[n_train:],axis=1),np.argmax(pred_ord,axis=1))\n",
    "print(acc_ord)"
   ]
  },
  {
   "cell_type": "code",
   "execution_count": 0,
   "metadata": {
    "colab": {},
    "colab_type": "code",
    "id": "mj3_I64VmAf8",
    "outputId": "64bcdda5-fbcf-44c8-b80c-2ff568971a2f"
   },
   "outputs": [
    {
     "name": "stdout",
     "output_type": "stream",
     "text": [
      "Confusion matrix, without normalization  1241\n"
     ]
    },
    {
     "data": {
      "image/png": "[encoded data removed]",
      "text/plain": [
       "<matplotlib.figure.Figure at 0x16664f60>"
      ]
     },
     "metadata": {
      "needs_background": "light",
      "tags": []
     },
     "output_type": "display_data"
    }
   ],
   "source": [
    "plt.figure()\n",
    "plot_confusion_matrix(cnf_ord, classes=label,title='Confusion matrix, accuracy = '+str(acc_ord))\n",
    "plt.savefig(os.path.join(folderName, 'ordcnfSynth.png'), format='png', dpi=200)\n",
    "plt.show()"
   ]
  },
  {
   "cell_type": "code",
   "execution_count": 0,
   "metadata": {
    "colab": {},
    "colab_type": "code",
    "id": "VvG1Va1SmAf_",
    "outputId": "4bc52bdd-dd86-4b26-992b-06fefe6de659"
   },
   "outputs": [
    {
     "data": {
      "image/png": "[encoded data removed]",
      "text/plain": [
       "<matplotlib.figure.Figure at 0x15f10630>"
      ]
     },
     "metadata": {
      "needs_background": "light",
      "tags": []
     },
     "output_type": "display_data"
    }
   ],
   "source": [
    "skplt.metrics.plot_roc(np.argmax(outputData[n_train:],axis=1),pred_ord,classes_to_plot=[1],plot_micro=False,plot_macro=False)\n",
    "plt.savefig(os.path.join(folderName, 'ordSynth.png'), format='png', dpi=200)\n",
    "plt.show() "
   ]
  },
  {
   "cell_type": "markdown",
   "metadata": {
    "colab_type": "text",
    "id": "vxQhZhW1mAgD"
   },
   "source": [
    "#### В обратном порядке importance"
   ]
  },
  {
   "cell_type": "code",
   "execution_count": 0,
   "metadata": {
    "colab": {},
    "colab_type": "code",
    "id": "JSFrBnfQmAgD"
   },
   "outputs": [],
   "source": [
    "copy=inputData.copy()\n",
    "reverse=inputData.copy()\n",
    "for i in range(inputData.shape[1]):\n",
    "    reverse[:,i]=copy[:,featlist[inputData.shape[1]-i-1]]"
   ]
  },
  {
   "cell_type": "code",
   "execution_count": 0,
   "metadata": {
    "colab": {},
    "colab_type": "code",
    "id": "7cL94IkKmAgG",
    "outputId": "458e2af8-a401-4687-a09f-587a6b103ade"
   },
   "outputs": [
    {
     "data": {
      "text/plain": [
       "0.64747536799820493"
      ]
     },
     "execution_count": 115,
     "metadata": {
      "tags": []
     },
     "output_type": "execute_result"
    }
   ],
   "source": [
    "cls.fit(reverse[:n_train],outputData[:n_train])"
   ]
  },
  {
   "cell_type": "code",
   "execution_count": 0,
   "metadata": {
    "colab": {},
    "colab_type": "code",
    "id": "GojdZe7CmAgJ",
    "outputId": "46852e9f-e2a3-4b04-cb3c-2cab8fe9e6e3"
   },
   "outputs": [
    {
     "data": {
      "text/plain": [
       "array([[621, 152],\n",
       "       [186, 641]], dtype=int64)"
      ]
     },
     "execution_count": 116,
     "metadata": {
      "tags": []
     },
     "output_type": "execute_result"
    }
   ],
   "source": [
    "pred_rev=cls.predict(reverse[n_train:])\n",
    "cnf_rev=confusion_matrix(np.argmax(outputData[n_train:],axis=1),np.argmax(pred_rev,axis=1))\n",
    "cnf_rev"
   ]
  },
  {
   "cell_type": "code",
   "execution_count": 0,
   "metadata": {
    "colab": {},
    "colab_type": "code",
    "id": "UWLKHSVTmAgN",
    "outputId": "adf7aee6-4cba-428d-e456-1f45fd214613"
   },
   "outputs": [
    {
     "name": "stdout",
     "output_type": "stream",
     "text": [
      "0.78875\n"
     ]
    }
   ],
   "source": [
    "acc_nonord=accuracy_score(np.argmax(outputData[n_train:],axis=1),np.argmax(pred_rev,axis=1))\n",
    "print(acc_nonord)"
   ]
  },
  {
   "cell_type": "code",
   "execution_count": 0,
   "metadata": {
    "colab": {},
    "colab_type": "code",
    "id": "8bhZCU3jmAgS",
    "outputId": "25db22f9-1194-43c9-82e4-4885e85416a0"
   },
   "outputs": [
    {
     "name": "stdout",
     "output_type": "stream",
     "text": [
      "Confusion matrix, without normalization  1262\n"
     ]
    },
    {
     "data": {
      "image/png": "[encoded data removed]",
      "text/plain": [
       "<matplotlib.figure.Figure at 0x172563c8>"
      ]
     },
     "metadata": {
      "needs_background": "light",
      "tags": []
     },
     "output_type": "display_data"
    }
   ],
   "source": [
    "plt.figure()\n",
    "plot_confusion_matrix(cnf_rev, classes=label,title='Confusion matrix, accuracy = '+str(acc_nonord))\n",
    "plt.savefig(os.path.join(folderName, 'nonordcnfSynth.png'), format='png', dpi=200)\n",
    "plt.show()"
   ]
  },
  {
   "cell_type": "code",
   "execution_count": 0,
   "metadata": {
    "colab": {},
    "colab_type": "code",
    "id": "mwXb8qWzmAgU",
    "outputId": "84718d2b-3a13-4d2d-ba97-8b8ba74e9b68",
    "scrolled": true
   },
   "outputs": [
    {
     "data": {
      "image/png": "[encoded data removed]",
      "text/plain": [
       "<matplotlib.figure.Figure at 0x15e9fd68>"
      ]
     },
     "metadata": {
      "needs_background": "light",
      "tags": []
     },
     "output_type": "display_data"
    }
   ],
   "source": [
    "skplt.metrics.plot_roc(np.argmax(outputData[n_train:],axis=1),pred_rev,classes_to_plot=[1],plot_micro=False,plot_macro =False)\n",
    "plt.savefig(os.path.join(folderName, 'nonordSynth.png'), format='png', dpi=200)\n",
    "plt.show() "
   ]
  },
  {
   "cell_type": "markdown",
   "metadata": {
    "colab_type": "text",
    "id": "6_qNZVkx0CGm"
   },
   "source": [
    "#### Перемешиваем все столбцы  "
   ]
  },
  {
   "cell_type": "code",
   "execution_count": 0,
   "metadata": {
    "colab": {},
    "colab_type": "code",
    "id": "PsdOsKQS0CGn"
   },
   "outputs": [],
   "source": [
    "shuffled=inputData.copy()\n",
    "shuffled=shuffled[:, np.random.permutation(shuffled.shape[1])]"
   ]
  },
  {
   "cell_type": "code",
   "execution_count": 0,
   "metadata": {
    "colab": {
     "base_uri": "https://localhost:8080/",
     "height": 34
    },
    "colab_type": "code",
    "id": "cUDY8yBV0CGr",
    "outputId": "dd60562f-a26d-415f-f9b2-59063af6e423"
   },
   "outputs": [
    {
     "data": {
      "text/plain": [
       "0.68821331748975811"
      ]
     },
     "execution_count": 50,
     "metadata": {
      "tags": []
     },
     "output_type": "execute_result"
    }
   ],
   "source": [
    "cls.fit(shuffled[:n_train],outputData[:n_train])"
   ]
  },
  {
   "cell_type": "code",
   "execution_count": 0,
   "metadata": {
    "colab": {
     "base_uri": "https://localhost:8080/",
     "height": 51
    },
    "colab_type": "code",
    "id": "ATDMamQX0CGx",
    "outputId": "c7e6c8a0-03c6-4dc9-c7db-a5e02d58a48e"
   },
   "outputs": [
    {
     "data": {
      "text/plain": [
       "array([[694, 111],\n",
       "       [101, 694]], dtype=int64)"
      ]
     },
     "execution_count": 51,
     "metadata": {
      "tags": []
     },
     "output_type": "execute_result"
    }
   ],
   "source": [
    "pred_shuffl=cls.predict(shuffled[n_train:])\n",
    "cnf_shuffl=confusion_matrix(np.argmax(outputData[n_train:],axis=1),np.argmax(pred_shuffl,axis=1))\n",
    "cnf_shuffl"
   ]
  },
  {
   "cell_type": "code",
   "execution_count": 0,
   "metadata": {
    "colab": {
     "base_uri": "https://localhost:8080/",
     "height": 34
    },
    "colab_type": "code",
    "id": "jcuP8ebE0CG3",
    "outputId": "17f8b3df-06b8-44ea-bfd3-d73e0a591e0d"
   },
   "outputs": [
    {
     "name": "stdout",
     "output_type": "stream",
     "text": [
      "0.8675\n"
     ]
    }
   ],
   "source": [
    "acc_shuff=accuracy_score(np.argmax(outputData[n_train:],axis=1),np.argmax(pred_shuffl,axis=1))\n",
    "print(acc_shuff)"
   ]
  },
  {
   "cell_type": "code",
   "execution_count": 0,
   "metadata": {
    "colab": {
     "base_uri": "https://localhost:8080/",
     "height": 351
    },
    "colab_type": "code",
    "id": "wmpNfthN0CGz",
    "outputId": "f867b87e-0ecd-40c1-9063-3fb6b69c7435"
   },
   "outputs": [
    {
     "name": "stdout",
     "output_type": "stream",
     "text": [
      "Confusion matrix, without normalization  1388\n"
     ]
    },
    {
     "data": {
      "image/png": "[encoded data removed]",
      "text/plain": [
       "<matplotlib.figure.Figure at 0x1c3f53c8>"
      ]
     },
     "metadata": {
      "needs_background": "light",
      "tags": []
     },
     "output_type": "display_data"
    }
   ],
   "source": [
    "plt.figure()\n",
    "plot_confusion_matrix(cnf_shuffl, classes=label,title='Confusion matrix, accuracy = '+str(acc_shuff))\n",
    "plt.savefig(os.path.join(folderName, 'shuffcnfSynth.png'), format='png', dpi=200)\n",
    "plt.show()"
   ]
  },
  {
   "cell_type": "code",
   "execution_count": 0,
   "metadata": {
    "colab": {
     "base_uri": "https://localhost:8080/",
     "height": 265
    },
    "colab_type": "code",
    "id": "HvTZpHSZIA1g",
    "outputId": "73fe0625-d489-4c00-af09-7a6262b1c732"
   },
   "outputs": [
    {
     "data": {
      "image/png": "[encoded data removed]",
      "text/plain": [
       "<matplotlib.figure.Figure at 0x1c4417b8>"
      ]
     },
     "metadata": {
      "needs_background": "light",
      "tags": []
     },
     "output_type": "display_data"
    }
   ],
   "source": [
    "skplt.metrics.plot_roc(np.argmax(outputData[n_train:],axis=1),pred_shuffl,classes_to_plot=[1],plot_micro=False,plot_macro =False)\n",
    "plt.savefig(os.path.join(folderName, 'shuffSynth.png'), format='png', dpi=200)\n",
    "plt.show() "
   ]
  },
  {
   "cell_type": "markdown",
   "metadata": {
    "colab_type": "text",
    "id": "bs037Bco0CG6"
   },
   "source": [
    "## III [Heart Disease UCI](https://www.kaggle.com/ronitf/heart-disease-uci) dataset from Kaggle.com"
   ]
  },
  {
   "cell_type": "markdown",
   "metadata": {
    "colab_type": "text",
    "id": "LRViWr380CG7"
   },
   "source": [
    "### Heart Disease UCI\n",
    "feature list:\n",
    "- age:  in years <br/>\n",
    "- sex: (1 = male; 0 = female) <br/>\n",
    "- cp: chest pain type<br/>\n",
    "- trestbps: resting blood pressure (in mm Hg on admission to the hospital)<br/>\n",
    "- chol: serum cholestoral in mg/dl<br/>\n",
    "- fbs: (fasting blood sugar > 120 mg/dl) (1 = true; 0 = false)<br/>\n",
    "- restecg: resting electrocardiographic results<br/>\n",
    "- thalach: maximum heart rate achieved<br/>\n",
    "- exang: exercise induced angina (1 = yes; 0 = no)<br/>\n",
    "- oldpeak: ST depression induced by exercise relative to rest<br/>\n",
    "- slope: the slope of the peak exercise ST segment<br/>\n",
    "- ca: number of major vessels (0-3) colored by flourosopy<br/>\n",
    "- thal: 3 = normal; 6 = fixed defect; 7 = reversable defect<br/>\n",
    "- target: 1 or 0<br/>"
   ]
  },
  {
   "cell_type": "code",
   "execution_count": 0,
   "metadata": {
    "colab": {
     "base_uri": "https://localhost:8080/",
     "height": 204
    },
    "colab_type": "code",
    "id": "2X7fqfYx0CG8",
    "outputId": "8e51f1d5-42a6-4d37-b35c-b901429ccdf7"
   },
   "outputs": [
    {
     "data": {
      "text/html": [
       "<div>\n",
       "<style scoped>\n",
       "    .dataframe tbody tr th:only-of-type {\n",
       "        vertical-align: middle;\n",
       "    }\n",
       "\n",
       "    .dataframe tbody tr th {\n",
       "        vertical-align: top;\n",
       "    }\n",
       "\n",
       "    .dataframe thead th {\n",
       "        text-align: right;\n",
       "    }\n",
       "</style>\n",
       "<table border=\"1\" class=\"dataframe\">\n",
       "  <thead>\n",
       "    <tr style=\"text-align: right;\">\n",
       "      <th></th>\n",
       "      <th>age</th>\n",
       "      <th>sex</th>\n",
       "      <th>cp</th>\n",
       "      <th>trestbps</th>\n",
       "      <th>chol</th>\n",
       "      <th>fbs</th>\n",
       "      <th>restecg</th>\n",
       "      <th>thalach</th>\n",
       "      <th>exang</th>\n",
       "      <th>oldpeak</th>\n",
       "      <th>slope</th>\n",
       "      <th>ca</th>\n",
       "      <th>thal</th>\n",
       "      <th>target</th>\n",
       "    </tr>\n",
       "  </thead>\n",
       "  <tbody>\n",
       "    <tr>\n",
       "      <th>113</th>\n",
       "      <td>43</td>\n",
       "      <td>1</td>\n",
       "      <td>0</td>\n",
       "      <td>110</td>\n",
       "      <td>211</td>\n",
       "      <td>0</td>\n",
       "      <td>1</td>\n",
       "      <td>161</td>\n",
       "      <td>0</td>\n",
       "      <td>0.0</td>\n",
       "      <td>2</td>\n",
       "      <td>0</td>\n",
       "      <td>3</td>\n",
       "      <td>1</td>\n",
       "    </tr>\n",
       "    <tr>\n",
       "      <th>249</th>\n",
       "      <td>69</td>\n",
       "      <td>1</td>\n",
       "      <td>2</td>\n",
       "      <td>140</td>\n",
       "      <td>254</td>\n",
       "      <td>0</td>\n",
       "      <td>0</td>\n",
       "      <td>146</td>\n",
       "      <td>0</td>\n",
       "      <td>2.0</td>\n",
       "      <td>1</td>\n",
       "      <td>3</td>\n",
       "      <td>3</td>\n",
       "      <td>0</td>\n",
       "    </tr>\n",
       "    <tr>\n",
       "      <th>18</th>\n",
       "      <td>43</td>\n",
       "      <td>1</td>\n",
       "      <td>0</td>\n",
       "      <td>150</td>\n",
       "      <td>247</td>\n",
       "      <td>0</td>\n",
       "      <td>1</td>\n",
       "      <td>171</td>\n",
       "      <td>0</td>\n",
       "      <td>1.5</td>\n",
       "      <td>2</td>\n",
       "      <td>0</td>\n",
       "      <td>2</td>\n",
       "      <td>1</td>\n",
       "    </tr>\n",
       "    <tr>\n",
       "      <th>142</th>\n",
       "      <td>42</td>\n",
       "      <td>0</td>\n",
       "      <td>2</td>\n",
       "      <td>120</td>\n",
       "      <td>209</td>\n",
       "      <td>0</td>\n",
       "      <td>1</td>\n",
       "      <td>173</td>\n",
       "      <td>0</td>\n",
       "      <td>0.0</td>\n",
       "      <td>1</td>\n",
       "      <td>0</td>\n",
       "      <td>2</td>\n",
       "      <td>1</td>\n",
       "    </tr>\n",
       "    <tr>\n",
       "      <th>299</th>\n",
       "      <td>45</td>\n",
       "      <td>1</td>\n",
       "      <td>3</td>\n",
       "      <td>110</td>\n",
       "      <td>264</td>\n",
       "      <td>0</td>\n",
       "      <td>1</td>\n",
       "      <td>132</td>\n",
       "      <td>0</td>\n",
       "      <td>1.2</td>\n",
       "      <td>1</td>\n",
       "      <td>0</td>\n",
       "      <td>3</td>\n",
       "      <td>0</td>\n",
       "    </tr>\n",
       "  </tbody>\n",
       "</table>\n",
       "</div>"
      ],
      "text/plain": [
       "     age  sex  cp  trestbps  chol  fbs  restecg  thalach  exang  oldpeak  \\\n",
       "113   43    1   0       110   211    0        1      161      0      0.0   \n",
       "249   69    1   2       140   254    0        0      146      0      2.0   \n",
       "18    43    1   0       150   247    0        1      171      0      1.5   \n",
       "142   42    0   2       120   209    0        1      173      0      0.0   \n",
       "299   45    1   3       110   264    0        1      132      0      1.2   \n",
       "\n",
       "     slope  ca  thal  target  \n",
       "113      2   0     3       1  \n",
       "249      1   3     3       0  \n",
       "18       2   0     2       1  \n",
       "142      1   0     2       1  \n",
       "299      1   0     3       0  "
      ]
     },
     "execution_count": 25,
     "metadata": {
      "tags": []
     },
     "output_type": "execute_result"
    }
   ],
   "source": [
    "file = 'heart.csv'\n",
    "# Load spreadsheet\n",
    "data=DataFrame(pd.read_csv(file) )\n",
    "data=data.sample(frac=1)\n",
    "data.head()"
   ]
  },
  {
   "cell_type": "markdown",
   "metadata": {},
   "source": [
    "<b> бинарный классификатор на xgboost"
   ]
  },
  {
   "cell_type": "code",
   "execution_count": 0,
   "metadata": {
    "colab": {},
    "colab_type": "code",
    "id": "rkB6uwlMmAg1"
   },
   "outputs": [],
   "source": [
    "_input=DataFrame(data.loc[:,data.columns[:-1]],columns=data.columns)\n",
    "_output=data.loc[:,data.columns[-1]]"
   ]
  },
  {
   "cell_type": "code",
   "execution_count": 0,
   "metadata": {
    "colab": {},
    "colab_type": "code",
    "id": "FFPV_wkGmAg4"
   },
   "outputs": [],
   "source": [
    "ohe=OneHotEncoder()\n",
    "inputData=np.array(data.loc[:,data.columns[:-1]])\n",
    "outputData=ohe.fit_transform(np.array(_output))"
   ]
  },
  {
   "cell_type": "code",
   "execution_count": 0,
   "metadata": {
    "colab": {},
    "colab_type": "code",
    "id": "403Y3zMFnY6a"
   },
   "outputs": [],
   "source": [
    "n_train=round(0.65*inputData.shape[0])"
   ]
  },
  {
   "cell_type": "code",
   "execution_count": 0,
   "metadata": {
    "colab": {},
    "colab_type": "code",
    "id": "jBQKu8OLmAg7",
    "outputId": "848e0f34-8120-4ad5-df9e-b7251d08b4f8"
   },
   "outputs": [
    {
     "data": {
      "text/plain": [
       "XGBClassifier(base_score=0.5, booster='gbtree', colsample_bylevel=1,\n",
       "       colsample_bytree=1, gamma=0, learning_rate=0.1, max_delta_step=0,\n",
       "       max_depth=3, min_child_weight=1, missing=None, n_estimators=100,\n",
       "       n_jobs=1, nthread=None, objective='binary:logistic', random_state=0,\n",
       "       reg_alpha=0, reg_lambda=1, scale_pos_weight=1, seed=None,\n",
       "       silent=True, subsample=1)"
      ]
     },
     "execution_count": 44,
     "metadata": {
      "tags": []
     },
     "output_type": "execute_result"
    }
   ],
   "source": [
    "model = xgboost.XGBClassifier()\n",
    "model.fit(_input[:n_train],_output[:n_train])"
   ]
  },
  {
   "cell_type": "code",
   "execution_count": 0,
   "metadata": {
    "colab": {
     "base_uri": "https://localhost:8080/",
     "height": 311
    },
    "colab_type": "code",
    "id": "hRtparKH0CHN",
    "outputId": "524a4d19-90dc-48d9-fb98-1f10fd054cc6"
   },
   "outputs": [
    {
     "data": {
      "text/plain": [
       "<matplotlib.axes._subplots.AxesSubplot at 0x165c2080>"
      ]
     },
     "execution_count": 45,
     "metadata": {
      "tags": []
     },
     "output_type": "execute_result"
    },
    {
     "data": {
      "image/png": "[encoded data removed]",
      "text/plain": [
       "<matplotlib.figure.Figure at 0x165be208>"
      ]
     },
     "metadata": {
      "needs_background": "light",
      "tags": []
     },
     "output_type": "display_data"
    }
   ],
   "source": [
    "xgboost.plot_importance(model)"
   ]
  },
  {
   "cell_type": "code",
   "execution_count": 0,
   "metadata": {
    "colab": {
     "base_uri": "https://localhost:8080/",
     "height": 34
    },
    "colab_type": "code",
    "id": "uBkkw6CEL7Gg",
    "outputId": "94237a6b-2670-4250-a6b0-83ad171bdb93"
   },
   "outputs": [
    {
     "data": {
      "text/plain": [
       "array([13,  6,  8, 10, 12,  2,  9,  1,  7, 11,  4,  3,  0], dtype=int64)"
      ]
     },
     "execution_count": 46,
     "metadata": {
      "tags": []
     },
     "output_type": "execute_result"
    }
   ],
   "source": [
    "model.importance_type=\"weight\"\n",
    "featlist=model.feature_importances_.argsort()\n",
    "featlist=featlist[1:]\n",
    "featlist"
   ]
  },
  {
   "cell_type": "code",
   "execution_count": 0,
   "metadata": {
    "colab": {},
    "colab_type": "code",
    "id": "eZSdaw-s0CHR"
   },
   "outputs": [],
   "source": [
    "pred_xgb = model.predict(_input[n_train:])"
   ]
  },
  {
   "cell_type": "code",
   "execution_count": 0,
   "metadata": {
    "colab": {},
    "colab_type": "code",
    "id": "jhdpuDoL0CHT"
   },
   "outputs": [],
   "source": [
    "acc_xg_real=accuracy_score(pred_xgb,_output[n_train:])"
   ]
  },
  {
   "cell_type": "code",
   "execution_count": 0,
   "metadata": {
    "colab": {},
    "colab_type": "code",
    "id": "XFgMtZI3mAhN",
    "outputId": "28707f50-8a89-4b05-a947-c8eb46535a17"
   },
   "outputs": [
    {
     "name": "stdout",
     "output_type": "stream",
     "text": [
      "Confusion matrix, without normalization  82\n"
     ]
    },
    {
     "data": {
      "image/png": "[encoded data removed]",
      "text/plain": [
       "<matplotlib.figure.Figure at 0x16c1d240>"
      ]
     },
     "metadata": {
      "needs_background": "light",
      "tags": []
     },
     "output_type": "display_data"
    }
   ],
   "source": [
    "cnf_real=confusion_matrix(_output[n_train:],pred_xgb)\n",
    "plt.figure()\n",
    "plot_confusion_matrix(cnf_real, classes=label,title='Confusion matrix, accuracy = '+str(acc_xg_real))\n",
    "plt.savefig(os.path.join(folderName, 'xgcnfReal.png'), format='png', dpi=200)\n",
    "plt.show()"
   ]
  },
  {
   "cell_type": "markdown",
   "metadata": {
    "colab_type": "text",
    "id": "LhEBdFQSnY6q"
   },
   "source": [
    "<b>бинарный классификатор на ESN"
   ]
  },
  {
   "cell_type": "code",
   "execution_count": 0,
   "metadata": {
    "colab": {},
    "colab_type": "code",
    "id": "GDfmJjYD0CHe"
   },
   "outputs": [],
   "source": [
    "cls=ClassificationESN(1,300, 2,#inputDensity= opt._best_params['inputDensity'],\n",
    "               # leakingRate= best_arg['leakingRate'],\n",
    "               # reservoirDensity= best_arg['reservoirDensity'],\n",
    "                        )"
   ]
  },
  {
   "cell_type": "code",
   "execution_count": 0,
   "metadata": {
    "colab": {
     "base_uri": "https://localhost:8080/",
     "height": 34
    },
    "colab_type": "code",
    "id": "kBuGf1WU0CHf",
    "outputId": "3baa35f1-9abe-4603-e79b-baefc7fbf0be",
    "scrolled": true
   },
   "outputs": [
    {
     "data": {
      "text/plain": [
       "0.79869231034583377"
      ]
     },
     "execution_count": 51,
     "metadata": {
      "tags": []
     },
     "output_type": "execute_result"
    }
   ],
   "source": [
    "cls.fit(inputData[:n_train],outputData[:n_train])"
   ]
  },
  {
   "cell_type": "code",
   "execution_count": 0,
   "metadata": {
    "colab": {},
    "colab_type": "code",
    "id": "CtrjOriS0CHh",
    "scrolled": false
   },
   "outputs": [],
   "source": [
    "pred_esn=cls.predict(inputData[n_train:])\n",
    "cnf_real=confusion_matrix(np.argmax(outputData[n_train:],axis=1),np.argmax(pred_esn,axis=1))"
   ]
  },
  {
   "cell_type": "code",
   "execution_count": 0,
   "metadata": {
    "colab": {},
    "colab_type": "code",
    "id": "svizYfbO0CHj",
    "outputId": "886eefdc-58a1-4abe-c790-e8c2fb18b9fe"
   },
   "outputs": [
    {
     "name": "stdout",
     "output_type": "stream",
     "text": [
      "0.745283018868\n"
     ]
    }
   ],
   "source": [
    "acc_real=accuracy_score(np.argmax(outputData[n_train:],axis=1),np.argmax(pred_esn,axis=1))\n",
    "print(acc_real)"
   ]
  },
  {
   "cell_type": "code",
   "execution_count": 0,
   "metadata": {
    "colab": {},
    "colab_type": "code",
    "id": "owT9wC110CHW"
   },
   "outputs": [],
   "source": [
    "_parametersDictionary={'leakingRate':np.linspace(0.2,0.9,25),\n",
    "                       #'reservoirDensity':np.linspace(0.1,1,10)\n",
    "                      }\n",
    "_fixedParametersDictionary={'n_input':1, 'n_reservoir':300, 'n_classes':2}"
   ]
  },
  {
   "cell_type": "code",
   "execution_count": 0,
   "metadata": {
    "colab": {},
    "colab_type": "code",
    "id": "1pBgvsGA0CHY"
   },
   "outputs": [],
   "source": [
    "opt=GridSearchOptimizer(ClassificationESN, parametersDictionary=_parametersDictionary,\n",
    "                        fixedParametersDictionary=_fixedParametersDictionary)"
   ]
  },
  {
   "cell_type": "code",
   "execution_count": 0,
   "metadata": {
    "colab": {
     "base_uri": "https://localhost:8080/",
     "height": 1054
    },
    "colab_type": "code",
    "id": "Zzi5k-0Z0CHZ",
    "outputId": "ac13b10f-4993-4195-e5c6-deb4025bf7c8"
   },
   "outputs": [
    {
     "name": "stderr",
     "output_type": "stream",
     "text": [
      "100% (25 of 25) |#########| Elapsed Time: 0:00:28 Time:  0:00:28 Loss:\t1.70E-01\n"
     ]
    },
    {
     "data": {
      "text/plain": [
       "[(0.24528301886792453,\n",
       "  0.84239261475833249,\n",
       "  {'leakingRate': 0.20000000000000001}),\n",
       " (0.25471698113207547,\n",
       "  0.84190402539206843,\n",
       "  {'leakingRate': 0.22916666666666669}),\n",
       " (0.23584905660377359,\n",
       "  0.83291770491817518,\n",
       "  {'leakingRate': 0.25833333333333336}),\n",
       " (0.24528301886792453,\n",
       "  0.85576782578828114,\n",
       "  {'leakingRate': 0.28749999999999998}),\n",
       " (0.19811320754716982,\n",
       "  0.82251284480365772,\n",
       "  {'leakingRate': 0.31666666666666665}),\n",
       " (0.21698113207547171,\n",
       "  0.83153200772868185,\n",
       "  {'leakingRate': 0.34583333333333333}),\n",
       " (0.23584905660377359, 0.84444778463366066, {'leakingRate': 0.375}),\n",
       " (0.23584905660377359,\n",
       "  0.8250536080942783,\n",
       "  {'leakingRate': 0.40416666666666667}),\n",
       " (0.22641509433962265,\n",
       "  0.82310065372457497,\n",
       "  {'leakingRate': 0.43333333333333335}),\n",
       " (0.25471698113207547,\n",
       "  0.88957578785014424,\n",
       "  {'leakingRate': 0.46249999999999997}),\n",
       " (0.20754716981132076,\n",
       "  0.84288886522559336,\n",
       "  {'leakingRate': 0.49166666666666664}),\n",
       " (0.22641509433962265,\n",
       "  0.82116920766735502,\n",
       "  {'leakingRate': 0.52083333333333326}),\n",
       " (0.23584905660377359,\n",
       "  0.84054523998957253,\n",
       "  {'leakingRate': 0.55000000000000004}),\n",
       " (0.21698113207547171,\n",
       "  0.83363353115257266,\n",
       "  {'leakingRate': 0.57916666666666661}),\n",
       " (0.22641509433962265,\n",
       "  0.86468333571911049,\n",
       "  {'leakingRate': 0.60833333333333328}),\n",
       " (0.18867924528301888,\n",
       "  0.83585355774292491,\n",
       "  {'leakingRate': 0.63749999999999996}),\n",
       " (0.21698113207547171,\n",
       "  0.80724229132660874,\n",
       "  {'leakingRate': 0.66666666666666663}),\n",
       " (0.16981132075471697,\n",
       "  0.8893946536727706,\n",
       "  {'leakingRate': 0.6958333333333333}),\n",
       " (0.19811320754716982,\n",
       "  0.85279750932146647,\n",
       "  {'leakingRate': 0.72499999999999987}),\n",
       " (0.22641509433962265,\n",
       "  0.8356383849384591,\n",
       "  {'leakingRate': 0.75416666666666665}),\n",
       " (0.19811320754716982,\n",
       "  0.82686846811237391,\n",
       "  {'leakingRate': 0.78333333333333321}),\n",
       " (0.20754716981132076, 0.84812516557040318, {'leakingRate': 0.8125}),\n",
       " (0.20754716981132076,\n",
       "  0.80051477317831199,\n",
       "  {'leakingRate': 0.84166666666666656}),\n",
       " (0.22641509433962265,\n",
       "  0.82888582873624317,\n",
       "  {'leakingRate': 0.87083333333333335}),\n",
       " (0.22641509433962265,\n",
       "  0.82822453414840691,\n",
       "  {'leakingRate': 0.90000000000000002})]"
      ]
     },
     "execution_count": 176,
     "metadata": {
      "tags": []
     },
     "output_type": "execute_result"
    }
   ],
   "source": [
    "opt.fit(inputData[:n_train],outputData[:n_train],inputData[n_train:],outputData[n_train:])"
   ]
  },
  {
   "cell_type": "code",
   "execution_count": 0,
   "metadata": {
    "colab": {
     "base_uri": "https://localhost:8080/",
     "height": 34
    },
    "colab_type": "code",
    "id": "jDjyHlqB0CHb",
    "outputId": "c7364b61-f5ab-4793-a72d-88a48604a530"
   },
   "outputs": [
    {
     "data": {
      "text/plain": [
       "{'leakingRate': 0.6958333333333333}"
      ]
     },
     "execution_count": 177,
     "metadata": {
      "tags": []
     },
     "output_type": "execute_result"
    }
   ],
   "source": [
    "best_arg=opt._best_params\n",
    "best_arg"
   ]
  },
  {
   "cell_type": "markdown",
   "metadata": {
    "colab_type": "text",
    "id": "MN5cgk5hnY67"
   },
   "source": [
    "<b>optimized leaking rate = 0.6958333333333333"
   ]
  },
  {
   "cell_type": "code",
   "execution_count": 0,
   "metadata": {
    "colab": {},
    "colab_type": "code",
    "id": "toKMDMcvmAhy",
    "outputId": "77d1c23b-61f4-4be7-8eeb-1589d7ac4fad"
   },
   "outputs": [
    {
     "name": "stdout",
     "output_type": "stream",
     "text": [
      "Confusion matrix, without normalization  81\n"
     ]
    },
    {
     "data": {
      "image/png": "[encoded data removed]",
      "text/plain": [
       "<matplotlib.figure.Figure at 0x16ce5b70>"
      ]
     },
     "metadata": {
      "needs_background": "light",
      "tags": []
     },
     "output_type": "display_data"
    }
   ],
   "source": [
    "plt.figure()\n",
    "plot_confusion_matrix(cnf_real, classes=label,title='Confusion matrix, accuracy = '+str(acc_real))\n",
    "plt.savefig(os.path.join(folderName, 'cnfReal.png'), format='png', dpi=200)\n",
    "plt.show()"
   ]
  },
  {
   "cell_type": "code",
   "execution_count": 0,
   "metadata": {
    "colab": {
     "base_uri": "https://localhost:8080/",
     "height": 265
    },
    "colab_type": "code",
    "id": "hVpc7p4N0CHm",
    "outputId": "057ce69a-9a74-4fbc-b4f6-baf8382a214d"
   },
   "outputs": [
    {
     "data": {
      "image/png": "[encoded data removed]",
      "text/plain": [
       "<matplotlib.figure.Figure at 0x16cff518>"
      ]
     },
     "metadata": {
      "needs_background": "light",
      "tags": []
     },
     "output_type": "display_data"
    }
   ],
   "source": [
    "skplt.metrics.plot_roc(np.argmax(outputData[n_train:],axis=1),pred_esn,classes_to_plot=[1],plot_micro=False,plot_macro =False)\n",
    "plt.savefig(os.path.join(folderName, 'shuffSynth.png'), format='png', dpi=200)\n",
    "plt.savefig(os.path.join(folderName, 'notempoReal.png'), format='png', dpi=200)\n",
    "plt.show() "
   ]
  },
  {
   "cell_type": "code",
   "execution_count": 0,
   "metadata": {
    "colab": {
     "base_uri": "https://localhost:8080/",
     "height": 311
    },
    "colab_type": "code",
    "id": "CoahheL0M8np",
    "outputId": "a083146a-6069-440a-abc5-d0a2dc7aeeb7"
   },
   "outputs": [
    {
     "data": {
      "text/plain": [
       "<matplotlib.axes._subplots.AxesSubplot at 0x178f7978>"
      ]
     },
     "execution_count": 60,
     "metadata": {
      "tags": []
     },
     "output_type": "execute_result"
    },
    {
     "data": {
      "image/png": "[encoded data removed]",
      "text/plain": [
       "<matplotlib.figure.Figure at 0x16ce5550>"
      ]
     },
     "metadata": {
      "needs_background": "light",
      "tags": []
     },
     "output_type": "display_data"
    }
   ],
   "source": [
    "xgboost.plot_importance(model)"
   ]
  },
  {
   "cell_type": "code",
   "execution_count": 0,
   "metadata": {
    "colab": {},
    "colab_type": "code",
    "id": "DKJeKCkjnY7R"
   },
   "outputs": [],
   "source": [
    "cls=opt_cls"
   ]
  },
  {
   "cell_type": "markdown",
   "metadata": {
    "colab_type": "text",
    "id": "DoGDDji-M3Pb"
   },
   "source": [
    "<b> Меняем первые два признака по importance"
   ]
  },
  {
   "cell_type": "code",
   "execution_count": 0,
   "metadata": {
    "colab": {},
    "colab_type": "code",
    "id": "s4_lJDhFMzjo"
   },
   "outputs": [],
   "source": [
    "changed1st2d=inputData.copy()\n",
    "changed1st2d[:,featlist[-2]],changed1st2d[:,featlist[-1]]=changed1st2d[:,featlist[-1]],changed1st2d[:,featlist[-2]].copy()"
   ]
  },
  {
   "cell_type": "code",
   "execution_count": 0,
   "metadata": {
    "colab": {
     "base_uri": "https://localhost:8080/",
     "height": 34
    },
    "colab_type": "code",
    "id": "J0mbOZR3Mzjv",
    "outputId": "87c8ef05-6fee-4f64-cc03-efbe7f7847b4"
   },
   "outputs": [
    {
     "data": {
      "text/plain": [
       "0.69248683860038285"
      ]
     },
     "execution_count": 63,
     "metadata": {
      "tags": []
     },
     "output_type": "execute_result"
    }
   ],
   "source": [
    "cls.fit(changed1st2d[:n_train],outputData[:n_train])"
   ]
  },
  {
   "cell_type": "code",
   "execution_count": 0,
   "metadata": {
    "colab": {
     "base_uri": "https://localhost:8080/",
     "height": 51
    },
    "colab_type": "code",
    "id": "shyr64mxMzj2",
    "outputId": "18709437-d5e8-4720-ee09-578403515aae"
   },
   "outputs": [
    {
     "data": {
      "text/plain": [
       "array([[35,  8],\n",
       "       [17, 46]], dtype=int64)"
      ]
     },
     "execution_count": 64,
     "metadata": {
      "tags": []
     },
     "output_type": "execute_result"
    }
   ],
   "source": [
    "pred_1st2d=cls.predict(changed1st2d[n_train:])\n",
    "cnf_1st2d=confusion_matrix(np.argmax(outputData[n_train:],axis=1),np.argmax(pred_1st2d,axis=1))\n",
    "cnf_1st2d"
   ]
  },
  {
   "cell_type": "code",
   "execution_count": 0,
   "metadata": {
    "colab": {},
    "colab_type": "code",
    "id": "hJwlzbU8M0PQ",
    "outputId": "42d60543-02a4-413c-926e-f7cd36fe97a8"
   },
   "outputs": [
    {
     "name": "stdout",
     "output_type": "stream",
     "text": [
      "0.764150943396\n"
     ]
    }
   ],
   "source": [
    "acc_1st2nd=accuracy_score(np.argmax(outputData[n_train:],axis=1),np.argmax(pred_1st2d,axis=1))\n",
    "print(acc_1st2nd)"
   ]
  },
  {
   "cell_type": "code",
   "execution_count": 0,
   "metadata": {
    "colab": {
     "base_uri": "https://localhost:8080/",
     "height": 351
    },
    "colab_type": "code",
    "id": "QAKGgrtqM0PI",
    "outputId": "8ce488b2-d94d-4393-c6bb-95b7e6cb486e"
   },
   "outputs": [
    {
     "name": "stdout",
     "output_type": "stream",
     "text": [
      "Confusion matrix, without normalization  81\n"
     ]
    },
    {
     "data": {
      "image/png": "[encoded data removed]",
      "text/plain": [
       "<matplotlib.figure.Figure at 0x17a1aeb8>"
      ]
     },
     "metadata": {
      "needs_background": "light",
      "tags": []
     },
     "output_type": "display_data"
    }
   ],
   "source": [
    "plt.figure()\n",
    "plot_confusion_matrix(cnf_1st2d, classes=label,title='Confusion matrix, accuracy = '+str(acc_1st2nd))\n",
    "plt.savefig(os.path.join(folderName, '1st2ndcnfReal.png'), format='png', dpi=200)\n",
    "plt.show()"
   ]
  },
  {
   "cell_type": "code",
   "execution_count": 0,
   "metadata": {
    "colab": {
     "base_uri": "https://localhost:8080/",
     "height": 265
    },
    "colab_type": "code",
    "id": "1YpV5ep9M0PW",
    "outputId": "59f81943-a5f5-4a2e-f028-ef933824ef32"
   },
   "outputs": [
    {
     "data": {
      "image/png": "[encoded data removed]",
      "text/plain": [
       "<matplotlib.figure.Figure at 0x16d089b0>"
      ]
     },
     "metadata": {
      "needs_background": "light",
      "tags": []
     },
     "output_type": "display_data"
    }
   ],
   "source": [
    "skplt.metrics.plot_roc(np.argmax(outputData[n_train:],axis=1),pred_1st2d,classes_to_plot=[1],plot_micro=False,plot_macro =False)\n",
    "plt.savefig(os.path.join(folderName, 'shuffSynth.png'), format='png', dpi=200)\n",
    "plt.savefig(os.path.join(folderName, '1st2ndReal.png'), format='png', dpi=200)\n",
    "plt.show() "
   ]
  },
  {
   "cell_type": "markdown",
   "metadata": {
    "colab_type": "text",
    "id": "WWfNgrPtN1DM"
   },
   "source": [
    "<b> Меняем первый признак с последним по importance"
   ]
  },
  {
   "cell_type": "code",
   "execution_count": 0,
   "metadata": {
    "colab": {},
    "colab_type": "code",
    "id": "3aa67KIlNr7d"
   },
   "outputs": [],
   "source": [
    "changed1stEnd=inputData.copy()\n",
    "changed1stEnd[:,featlist[0]-1],changed1stEnd[:,featlist[-1]]=changed1stEnd[:,featlist[-1]],changed1stEnd[:,featlist[0]-1].copy()"
   ]
  },
  {
   "cell_type": "code",
   "execution_count": 0,
   "metadata": {
    "colab": {
     "base_uri": "https://localhost:8080/",
     "height": 34
    },
    "colab_type": "code",
    "id": "XYMOWi7cNr7h",
    "outputId": "371f2377-dda1-4b41-b41a-868e083da7f4"
   },
   "outputs": [
    {
     "data": {
      "text/plain": [
       "1.3988794211942328"
      ]
     },
     "execution_count": 69,
     "metadata": {
      "tags": []
     },
     "output_type": "execute_result"
    }
   ],
   "source": [
    "cls.fit(changed1stEnd[:n_train],outputData[:n_train])"
   ]
  },
  {
   "cell_type": "code",
   "execution_count": 0,
   "metadata": {
    "colab": {
     "base_uri": "https://localhost:8080/",
     "height": 51
    },
    "colab_type": "code",
    "id": "R1pvgl1WNr7m",
    "outputId": "261592c1-f8a5-4506-fe9e-6d9536dbb00a"
   },
   "outputs": [
    {
     "data": {
      "text/plain": [
       "array([[33, 10],\n",
       "       [11, 52]], dtype=int64)"
      ]
     },
     "execution_count": 70,
     "metadata": {
      "tags": []
     },
     "output_type": "execute_result"
    }
   ],
   "source": [
    "pred_1stEnd=cls.predict(changed1stEnd[n_train:])\n",
    "cnf_1stEnd=confusion_matrix(np.argmax(outputData[n_train:],axis=1),np.argmax(pred_1stEnd,axis=1))\n",
    "cnf_1stEnd"
   ]
  },
  {
   "cell_type": "code",
   "execution_count": 0,
   "metadata": {
    "colab": {
     "base_uri": "https://localhost:8080/",
     "height": 34
    },
    "colab_type": "code",
    "id": "N5uELAITNr72",
    "outputId": "63383f74-652a-44f5-d788-3907f73c3383"
   },
   "outputs": [
    {
     "name": "stdout",
     "output_type": "stream",
     "text": [
      "0.801886792453\n"
     ]
    }
   ],
   "source": [
    "acc_1stEnd=accuracy_score(np.argmax(outputData[n_train:],axis=1),np.argmax(pred_1stEnd,axis=1))\n",
    "print(acc_1stEnd)"
   ]
  },
  {
   "cell_type": "code",
   "execution_count": 0,
   "metadata": {
    "colab": {
     "base_uri": "https://localhost:8080/",
     "height": 351
    },
    "colab_type": "code",
    "id": "6tHnWjcWNr7s",
    "outputId": "d2ed87ae-32b7-48c0-e75b-45d25dea02d2"
   },
   "outputs": [
    {
     "name": "stdout",
     "output_type": "stream",
     "text": [
      "Confusion matrix, without normalization  85\n"
     ]
    },
    {
     "data": {
      "image/png": "[encoded data removed]",
      "text/plain": [
       "<matplotlib.figure.Figure at 0x16deb470>"
      ]
     },
     "metadata": {
      "needs_background": "light",
      "tags": []
     },
     "output_type": "display_data"
    }
   ],
   "source": [
    "plt.figure()\n",
    "plot_confusion_matrix(cnf_1stEnd, classes=label,title='Confusion matrix, accuracy = '+str(acc_1stEnd))\n",
    "plt.savefig(os.path.join(folderName, '1stEndcnfReal.png'), format='png', dpi=200)\n",
    "plt.show()"
   ]
  },
  {
   "cell_type": "code",
   "execution_count": 0,
   "metadata": {
    "colab": {
     "base_uri": "https://localhost:8080/",
     "height": 265
    },
    "colab_type": "code",
    "id": "-cIP03rsNr77",
    "outputId": "a6888df7-056c-4ef8-c785-28a71e36b73c"
   },
   "outputs": [
    {
     "data": {
      "image/png": "[encoded data removed]",
      "text/plain": [
       "<matplotlib.figure.Figure at 0x16e0b978>"
      ]
     },
     "metadata": {
      "needs_background": "light",
      "tags": []
     },
     "output_type": "display_data"
    }
   ],
   "source": [
    "skplt.metrics.plot_roc(np.argmax(outputData[n_train:],axis=1),pred_1stEnd,classes_to_plot=[1],plot_micro=False,plot_macro =False)\n",
    "plt.savefig(os.path.join(folderName, 'shuffSynth.png'), format='png', dpi=200)\n",
    "plt.savefig(os.path.join(folderName, '1stEndReal.png'), format='png', dpi=200)\n",
    "plt.show() "
   ]
  },
  {
   "cell_type": "markdown",
   "metadata": {
    "colab_type": "text",
    "id": "u4R1whrjNr7_"
   },
   "source": [
    "####  По порядку importance"
   ]
  },
  {
   "cell_type": "code",
   "execution_count": 0,
   "metadata": {
    "colab": {},
    "colab_type": "code",
    "id": "mdjCBuZ7mAiU"
   },
   "outputs": [],
   "source": [
    "copy=inputData.copy()\n",
    "ordered=inputData.copy()\n",
    "for i in range(inputData.shape[1]):\n",
    "    ordered[:,i]=copy[:,featlist[i]-1]"
   ]
  },
  {
   "cell_type": "code",
   "execution_count": 0,
   "metadata": {
    "colab": {},
    "colab_type": "code",
    "id": "fbxPQtcnmAiV",
    "outputId": "901136dc-6404-4e6f-d5a5-e8dacabe3808"
   },
   "outputs": [
    {
     "data": {
      "text/plain": [
       "1.3949996625922048"
      ]
     },
     "execution_count": 75,
     "metadata": {
      "tags": []
     },
     "output_type": "execute_result"
    }
   ],
   "source": [
    "cls.fit(ordered[:n_train],outputData[:n_train])"
   ]
  },
  {
   "cell_type": "code",
   "execution_count": 0,
   "metadata": {
    "colab": {},
    "colab_type": "code",
    "id": "hH4OZcRqmAiZ",
    "outputId": "d6b3a39a-9264-4357-fc19-a2ec2fc13af0"
   },
   "outputs": [
    {
     "data": {
      "text/plain": [
       "array([[32, 11],\n",
       "       [13, 50]], dtype=int64)"
      ]
     },
     "execution_count": 76,
     "metadata": {
      "tags": []
     },
     "output_type": "execute_result"
    }
   ],
   "source": [
    "pred_ord=cls.predict(ordered[n_train:])\n",
    "cnf_ord=confusion_matrix(np.argmax(outputData[n_train:],axis=1),np.argmax(pred_ord,axis=1))\n",
    "cnf_ord"
   ]
  },
  {
   "cell_type": "code",
   "execution_count": 0,
   "metadata": {
    "colab": {},
    "colab_type": "code",
    "id": "N6RnIgWdmAid",
    "outputId": "e4712d24-3b1b-41ae-cbbd-6ed4af4180df"
   },
   "outputs": [
    {
     "name": "stdout",
     "output_type": "stream",
     "text": [
      "0.77358490566\n"
     ]
    }
   ],
   "source": [
    "acc_ord=accuracy_score(np.argmax(outputData[n_train:],axis=1),np.argmax(pred_ord,axis=1))\n",
    "print(acc_ord)"
   ]
  },
  {
   "cell_type": "code",
   "execution_count": 0,
   "metadata": {
    "colab": {},
    "colab_type": "code",
    "id": "CvBH7mkjmAih",
    "outputId": "4be1f00a-20e9-431c-fc36-da72ac8a2f4a"
   },
   "outputs": [
    {
     "name": "stdout",
     "output_type": "stream",
     "text": [
      "Confusion matrix, without normalization  82\n"
     ]
    },
    {
     "data": {
      "image/png": "[encoded data removed]",
      "text/plain": [
       "<matplotlib.figure.Figure at 0x174f16a0>"
      ]
     },
     "metadata": {
      "needs_background": "light",
      "tags": []
     },
     "output_type": "display_data"
    }
   ],
   "source": [
    "plt.figure()\n",
    "plot_confusion_matrix(cnf_ord, classes=label,title='Confusion matrix, accuracy = '+str(acc_ord))\n",
    "plt.savefig(os.path.join(folderName, 'ordcnfReal.png'), format='png', dpi=200)\n",
    "plt.show()"
   ]
  },
  {
   "cell_type": "code",
   "execution_count": 0,
   "metadata": {
    "colab": {},
    "colab_type": "code",
    "id": "Ad8TfudmmAii",
    "outputId": "c5dd3fce-98bf-4437-a43b-d550ffd15ed6"
   },
   "outputs": [
    {
     "data": {
      "image/png": "[encoded data removed]",
      "text/plain": [
       "<matplotlib.figure.Figure at 0x174dd6d8>"
      ]
     },
     "metadata": {
      "needs_background": "light",
      "tags": []
     },
     "output_type": "display_data"
    }
   ],
   "source": [
    "skplt.metrics.plot_roc(np.argmax(outputData[n_train:],axis=1),pred_ord,classes_to_plot=[1],plot_micro=False,plot_macro =False)\n",
    "plt.savefig(os.path.join(folderName, 'shuffSynth.png'), format='png', dpi=200)\n",
    "plt.savefig(os.path.join(folderName, 'ordReal.png'), format='png', dpi=200)\n",
    "plt.show() "
   ]
  },
  {
   "cell_type": "markdown",
   "metadata": {
    "colab_type": "text",
    "id": "dgxOkNG-mAim"
   },
   "source": [
    "#### В обратном порядке importance"
   ]
  },
  {
   "cell_type": "code",
   "execution_count": 0,
   "metadata": {
    "colab": {},
    "colab_type": "code",
    "id": "8CLhCqXcmAin"
   },
   "outputs": [],
   "source": [
    "copy=inputData.copy()\n",
    "reverse=inputData.copy()\n",
    "for i in range(inputData.shape[1]):\n",
    "    reverse[:,i]=copy[:,featlist[inputData.shape[1]-i-1]-1]"
   ]
  },
  {
   "cell_type": "code",
   "execution_count": 0,
   "metadata": {
    "colab": {},
    "colab_type": "code",
    "id": "MS-7CjDSmAio",
    "outputId": "4a267b61-0029-4e48-eadf-298ec1df0ee1"
   },
   "outputs": [
    {
     "data": {
      "text/plain": [
       "1.3905342993089334"
      ]
     },
     "execution_count": 81,
     "metadata": {
      "tags": []
     },
     "output_type": "execute_result"
    }
   ],
   "source": [
    "cls.fit(reverse[:n_train],outputData[:n_train])"
   ]
  },
  {
   "cell_type": "code",
   "execution_count": 0,
   "metadata": {
    "colab": {},
    "colab_type": "code",
    "id": "3FbtKa4vmAiq",
    "outputId": "6c1d9e62-7cd5-4dd8-e42b-86938655ab1d"
   },
   "outputs": [
    {
     "data": {
      "text/plain": [
       "array([[33, 10],\n",
       "       [11, 52]], dtype=int64)"
      ]
     },
     "execution_count": 82,
     "metadata": {
      "tags": []
     },
     "output_type": "execute_result"
    }
   ],
   "source": [
    "pred_rev=cls.predict(reverse[n_train:])\n",
    "cnf_rev=confusion_matrix(np.argmax(outputData[n_train:],axis=1),np.argmax(pred_rev,axis=1))\n",
    "cnf_rev"
   ]
  },
  {
   "cell_type": "code",
   "execution_count": 0,
   "metadata": {
    "colab": {},
    "colab_type": "code",
    "id": "i5K03y6pmAir",
    "outputId": "ae4fdff6-7d6a-46d1-d164-2561089cc76c"
   },
   "outputs": [
    {
     "name": "stdout",
     "output_type": "stream",
     "text": [
      "0.801886792453\n"
     ]
    }
   ],
   "source": [
    "acc_nonord=accuracy_score(np.argmax(outputData[n_train:],axis=1),np.argmax(pred_rev,axis=1))\n",
    "print(acc_nonord)"
   ]
  },
  {
   "cell_type": "code",
   "execution_count": 0,
   "metadata": {
    "colab": {},
    "colab_type": "code",
    "id": "7aJO948LmAit",
    "outputId": "49b9d5c9-6177-4f9d-e85f-6b574f350afc"
   },
   "outputs": [
    {
     "name": "stdout",
     "output_type": "stream",
     "text": [
      "Confusion matrix, without normalization  85\n"
     ]
    },
    {
     "data": {
      "image/png": "[encoded data removed]",
      "text/plain": [
       "<matplotlib.figure.Figure at 0x17900d68>"
      ]
     },
     "metadata": {
      "needs_background": "light",
      "tags": []
     },
     "output_type": "display_data"
    }
   ],
   "source": [
    "plt.figure()\n",
    "plot_confusion_matrix(cnf_rev, classes=label,title='Confusion matrix, accuracy = ' +str(acc_nonord))\n",
    "plt.savefig(os.path.join(folderName, 'nonordcnfReal.png'), format='png', dpi=200)\n",
    "plt.show()"
   ]
  },
  {
   "cell_type": "code",
   "execution_count": 0,
   "metadata": {
    "colab": {},
    "colab_type": "code",
    "id": "4x8ivG5KmAiu",
    "outputId": "0a959497-13bd-4987-a83e-136ee047bac5",
    "scrolled": true
   },
   "outputs": [
    {
     "data": {
      "image/png": "[encoded data removed]",
      "text/plain": [
       "<matplotlib.figure.Figure at 0x174532e8>"
      ]
     },
     "metadata": {
      "needs_background": "light",
      "tags": []
     },
     "output_type": "display_data"
    }
   ],
   "source": [
    "fpr, tpr, thresholds =roc_curve(np.argmax(outputData[n_train:],axis=1),np.argmax(pred_rev,axis=1))\n",
    "skplt.metrics.plot_roc(np.argmax(outputData[n_train:],axis=1),pred_rev,classes_to_plot=[1],plot_micro=False,plot_macro =False)\n",
    "plt.savefig(os.path.join(folderName, 'nonordReal.png'), format='png', dpi=200)\n",
    "plt.show() "
   ]
  },
  {
   "cell_type": "markdown",
   "metadata": {
    "colab_type": "text",
    "id": "4hayDgSVNr8Z"
   },
   "source": [
    "#### Перемешиваем все столбцы "
   ]
  },
  {
   "cell_type": "code",
   "execution_count": 0,
   "metadata": {
    "colab": {},
    "colab_type": "code",
    "id": "DtHFM20HNr8c"
   },
   "outputs": [],
   "source": [
    "shuffled=inputData.copy()\n",
    "shuffled=shuffled[:, np.random.permutation(shuffled.shape[1])]"
   ]
  },
  {
   "cell_type": "code",
   "execution_count": 0,
   "metadata": {
    "colab": {
     "base_uri": "https://localhost:8080/",
     "height": 34
    },
    "colab_type": "code",
    "id": "motHgaUHNr8d",
    "outputId": "11088e5d-2330-4a83-9e35-b9acb27981df"
   },
   "outputs": [
    {
     "data": {
      "text/plain": [
       "0.85662682507877908"
      ]
     },
     "execution_count": 88,
     "metadata": {
      "tags": []
     },
     "output_type": "execute_result"
    }
   ],
   "source": [
    "optCls.fit(shuffled[:n_train],outputData[:n_train])"
   ]
  },
  {
   "cell_type": "code",
   "execution_count": 0,
   "metadata": {
    "colab": {
     "base_uri": "https://localhost:8080/",
     "height": 51
    },
    "colab_type": "code",
    "id": "2ccTxlMvNr8h",
    "outputId": "0242b190-e850-4986-f588-ebc97f89f727"
   },
   "outputs": [
    {
     "data": {
      "text/plain": [
       "array([[30, 13],\n",
       "       [12, 51]], dtype=int64)"
      ]
     },
     "execution_count": 89,
     "metadata": {
      "tags": []
     },
     "output_type": "execute_result"
    }
   ],
   "source": [
    "pred_shuffl=optCls.predict(shuffled[n_train:])\n",
    "cnf_shuffl=confusion_matrix(np.argmax(outputData[n_train:],axis=1),np.argmax(pred_shuffl,axis=1))\n",
    "cnf_shuffl"
   ]
  },
  {
   "cell_type": "code",
   "execution_count": 0,
   "metadata": {
    "colab": {},
    "colab_type": "code",
    "id": "aF4p6y78Nr9E"
   },
   "outputs": [],
   "source": [
    "acc_shuff=accuracy_score(np.argmax(outputData[n_train:],axis=1),np.argmax(pred_shuffl,axis=1))"
   ]
  },
  {
   "cell_type": "code",
   "execution_count": 0,
   "metadata": {
    "colab": {
     "base_uri": "https://localhost:8080/",
     "height": 351
    },
    "colab_type": "code",
    "id": "I1tPcTQyNr8v",
    "outputId": "5ab1262c-2a23-481f-c2b3-748a17b96417"
   },
   "outputs": [
    {
     "name": "stdout",
     "output_type": "stream",
     "text": [
      "Confusion matrix, without normalization  81\n"
     ]
    },
    {
     "data": {
      "image/png": "[encoded data removed]",
      "text/plain": [
       "<matplotlib.figure.Figure at 0x17519080>"
      ]
     },
     "metadata": {
      "needs_background": "light",
      "tags": []
     },
     "output_type": "display_data"
    }
   ],
   "source": [
    "plt.figure()\n",
    "plot_confusion_matrix(cnf_shuffl, classes=label,title='Confusion matrix, accuracy = '+str(acc_shuff))\n",
    "plt.savefig(os.path.join(folderName, 'shuffcnfReal.png'), format='png', dpi=200)\n",
    "plt.show()"
   ]
  },
  {
   "cell_type": "code",
   "execution_count": 0,
   "metadata": {
    "colab": {
     "base_uri": "https://localhost:8080/",
     "height": 265
    },
    "colab_type": "code",
    "id": "HThO1e-ANr9U",
    "outputId": "075c96ed-eebe-432b-c90d-710b92d81474"
   },
   "outputs": [
    {
     "data": {
      "image/png": "[encoded data removed]",
      "text/plain": [
       "<matplotlib.figure.Figure at 0x1791d908>"
      ]
     },
     "metadata": {
      "needs_background": "light",
      "tags": []
     },
     "output_type": "display_data"
    }
   ],
   "source": [
    "skplt.metrics.plot_roc(np.argmax(outputData[n_train:],axis=1),pred_shuffl,classes_to_plot=[1],plot_micro=False,plot_macro =False)\n",
    "plt.savefig(os.path.join(folderName, 'shuffReal.png'), format='png', dpi=200)\n",
    "plt.show() "
   ]
  },
  {
   "cell_type": "markdown",
   "metadata": {
    "colab_type": "text",
    "id": "LW3HmyGY6V0Z"
   },
   "source": [
    "## проверка гипотез о независимости результатов бинарного классификатора ClassificationESN от темпорализации набора данных"
   ]
  },
  {
   "cell_type": "code",
   "execution_count": 0,
   "metadata": {
    "colab": {},
    "colab_type": "code",
    "id": "69HEljrYnY8h"
   },
   "outputs": [],
   "source": [
    "data=data.sample(frac=1)"
   ]
  },
  {
   "cell_type": "code",
   "execution_count": 0,
   "metadata": {
    "colab": {
     "base_uri": "https://localhost:8080/",
     "height": 204
    },
    "colab_type": "code",
    "id": "9FM8Slr9nY8i",
    "outputId": "f6b71fb5-c5b3-4332-a307-787e210fd255"
   },
   "outputs": [
    {
     "data": {
      "text/html": [
       "<div>\n",
       "<style scoped>\n",
       "    .dataframe tbody tr th:only-of-type {\n",
       "        vertical-align: middle;\n",
       "    }\n",
       "\n",
       "    .dataframe tbody tr th {\n",
       "        vertical-align: top;\n",
       "    }\n",
       "\n",
       "    .dataframe thead th {\n",
       "        text-align: right;\n",
       "    }\n",
       "</style>\n",
       "<table border=\"1\" class=\"dataframe\">\n",
       "  <thead>\n",
       "    <tr style=\"text-align: right;\">\n",
       "      <th></th>\n",
       "      <th>age</th>\n",
       "      <th>sex</th>\n",
       "      <th>cp</th>\n",
       "      <th>trestbps</th>\n",
       "      <th>chol</th>\n",
       "      <th>fbs</th>\n",
       "      <th>restecg</th>\n",
       "      <th>thalach</th>\n",
       "      <th>exang</th>\n",
       "      <th>oldpeak</th>\n",
       "      <th>slope</th>\n",
       "      <th>ca</th>\n",
       "      <th>thal</th>\n",
       "      <th>target</th>\n",
       "    </tr>\n",
       "  </thead>\n",
       "  <tbody>\n",
       "    <tr>\n",
       "      <th>168</th>\n",
       "      <td>63</td>\n",
       "      <td>1</td>\n",
       "      <td>0</td>\n",
       "      <td>130</td>\n",
       "      <td>254</td>\n",
       "      <td>0</td>\n",
       "      <td>0</td>\n",
       "      <td>147</td>\n",
       "      <td>0</td>\n",
       "      <td>1.4</td>\n",
       "      <td>1</td>\n",
       "      <td>1</td>\n",
       "      <td>3</td>\n",
       "      <td>0</td>\n",
       "    </tr>\n",
       "    <tr>\n",
       "      <th>113</th>\n",
       "      <td>43</td>\n",
       "      <td>1</td>\n",
       "      <td>0</td>\n",
       "      <td>110</td>\n",
       "      <td>211</td>\n",
       "      <td>0</td>\n",
       "      <td>1</td>\n",
       "      <td>161</td>\n",
       "      <td>0</td>\n",
       "      <td>0.0</td>\n",
       "      <td>2</td>\n",
       "      <td>0</td>\n",
       "      <td>3</td>\n",
       "      <td>1</td>\n",
       "    </tr>\n",
       "    <tr>\n",
       "      <th>198</th>\n",
       "      <td>62</td>\n",
       "      <td>1</td>\n",
       "      <td>0</td>\n",
       "      <td>120</td>\n",
       "      <td>267</td>\n",
       "      <td>0</td>\n",
       "      <td>1</td>\n",
       "      <td>99</td>\n",
       "      <td>1</td>\n",
       "      <td>1.8</td>\n",
       "      <td>1</td>\n",
       "      <td>2</td>\n",
       "      <td>3</td>\n",
       "      <td>0</td>\n",
       "    </tr>\n",
       "    <tr>\n",
       "      <th>266</th>\n",
       "      <td>55</td>\n",
       "      <td>0</td>\n",
       "      <td>0</td>\n",
       "      <td>180</td>\n",
       "      <td>327</td>\n",
       "      <td>0</td>\n",
       "      <td>2</td>\n",
       "      <td>117</td>\n",
       "      <td>1</td>\n",
       "      <td>3.4</td>\n",
       "      <td>1</td>\n",
       "      <td>0</td>\n",
       "      <td>2</td>\n",
       "      <td>0</td>\n",
       "    </tr>\n",
       "    <tr>\n",
       "      <th>182</th>\n",
       "      <td>61</td>\n",
       "      <td>0</td>\n",
       "      <td>0</td>\n",
       "      <td>130</td>\n",
       "      <td>330</td>\n",
       "      <td>0</td>\n",
       "      <td>0</td>\n",
       "      <td>169</td>\n",
       "      <td>0</td>\n",
       "      <td>0.0</td>\n",
       "      <td>2</td>\n",
       "      <td>0</td>\n",
       "      <td>2</td>\n",
       "      <td>0</td>\n",
       "    </tr>\n",
       "  </tbody>\n",
       "</table>\n",
       "</div>"
      ],
      "text/plain": [
       "     age  sex  cp  trestbps  chol  fbs  restecg  thalach  exang  oldpeak  \\\n",
       "168   63    1   0       130   254    0        0      147      0      1.4   \n",
       "113   43    1   0       110   211    0        1      161      0      0.0   \n",
       "198   62    1   0       120   267    0        1       99      1      1.8   \n",
       "266   55    0   0       180   327    0        2      117      1      3.4   \n",
       "182   61    0   0       130   330    0        0      169      0      0.0   \n",
       "\n",
       "     slope  ca  thal  target  \n",
       "168      1   1     3       0  \n",
       "113      2   0     3       1  \n",
       "198      1   2     3       0  \n",
       "266      1   0     2       0  \n",
       "182      2   0     2       0  "
      ]
     },
     "execution_count": 223,
     "metadata": {
      "tags": []
     },
     "output_type": "execute_result"
    }
   ],
   "source": [
    "DataFrame(data).head()"
   ]
  },
  {
   "cell_type": "markdown",
   "metadata": {
    "colab_type": "text",
    "id": "gbNNC31l5YS3"
   },
   "source": [
    "<b> генерирование выборок для проверки равенства средних accuracy и F1 score для набора данных с признаками , отсортированными по imoprtance и расставленными в случайном порядке"
   ]
  },
  {
   "cell_type": "code",
   "execution_count": 0,
   "metadata": {
    "colab": {},
    "colab_type": "code",
    "id": "Jbg4Ww_qnY8k"
   },
   "outputs": [],
   "source": [
    "def test(_data,n_iter):\n",
    "    accuracy_imp_ord=[]\n",
    "    f1_imp_ord=[]\n",
    "    accuracy_shuff=[]\n",
    "    f1_shuff=[]\n",
    "    bar = progressbar.ProgressBar().start()\n",
    "    for i in range(n_iter):\n",
    "        bar.update(i)\n",
    "        #print(\"iter = \",i+1 )\n",
    "        data=_data\n",
    "        data=data.sample(frac=1)\n",
    "\n",
    "        _input=DataFrame(data.loc[:,data.columns[:-1]],columns=data.columns)\n",
    "        _output=data.loc[:,data.columns[-1]]\n",
    "\n",
    "\n",
    "        ohe=OneHotEncoder()\n",
    "        inputData=np.array(data.loc[:,data.columns[:-1]])\n",
    "        outputData=ohe.fit_transform(np.array(_output))\n",
    "        n_train=round(0.65*inputData.shape[0])\n",
    "        \n",
    "        #узнаем feature_importance\n",
    "        model = xgboost.XGBClassifier()\n",
    "        model.fit(_input[:n_train],_output[:n_train])\n",
    "        model.importance_type=\"weight\"\n",
    "        featlist=model.feature_importances_.argsort()\n",
    "        featlist=featlist[1:]\n",
    "\n",
    "        cls=ClassificationESN(1,300, 2, leakingRate=  0.6958333333333333)\n",
    "\n",
    "        # в порядке importance\n",
    "        copy=inputData.copy()\n",
    "        ordered=inputData.copy()\n",
    "        for j in range(inputData.shape[1]):\n",
    "            ordered[:,j]=copy[:,featlist[j]-1]\n",
    "        cls.fit(ordered[:n_train],outputData[:n_train])\n",
    "        y_predOrd=cls.predict(ordered[n_train:])\n",
    "        #accuracy\n",
    "        accuracy_imp_ord.append(accuracy_score(np.argmax(outputData[n_train:],axis=1),np.argmax(y_predOrd,axis=1)))\n",
    "        #f1_score\n",
    "        f1_imp_ord.append(f1_score(np.argmax(outputData[n_train:],axis=1),np.argmax(y_predOrd,axis=1)))\n",
    "        \n",
    "        # в случайном поярдке\n",
    "        shuffled=inputData.copy()\n",
    "        shuffled=shuffled[:, np.random.permutation(shuffled.shape[1])]\n",
    "        cls.fit(shuffled[:n_train],outputData[:n_train])\n",
    "        y_predShuff=cls.predict(shuffled[n_train:])\n",
    "        #accuracy\n",
    "        accuracy_shuff.append(accuracy_score(np.argmax(outputData[n_train:],axis=1),np.argmax(y_predShuff,axis=1)))\n",
    "        #f1_score\n",
    "        f1_shuff.append(f1_score(np.argmax(outputData[n_train:],axis=1),np.argmax(y_predShuff,axis=1)))\n",
    "    bar.finish()    \n",
    "    return accuracy_imp_ord,f1_imp_ord, accuracy_shuff, f1_shuff"
   ]
  },
  {
   "cell_type": "code",
   "execution_count": 1,
   "metadata": {
    "colab": {},
    "colab_type": "code",
    "id": "EFvs5lJU9r_t"
   },
   "outputs": [],
   "source": [
    "def plt_distrub(test_sample,i,color):\n",
    "    n=20#len(test_sample[i])\n",
    "    s = pd.Series(test_sample[i])\n",
    "    s.plot.kde()\n",
    "    plt.plot([np.mean(test_sample[i]),np.mean(test_sample[i])],[0,n],color)\n",
    "    plt.plot([np.mean(test_sample[i])+np.std(test_sample[i]),np.mean(test_sample[i])+np.std(test_sample[i])],\n",
    "               [0,n],'--'+color)\n",
    "    plt.plot([np.mean(test_sample[i])-np.std(test_sample[i]),np.mean(test_sample[i])-np.std(test_sample[i])],\n",
    "               [0,n],'--'+color)\n",
    "    plt.grid()\n",
    "    return s"
   ]
  },
  {
   "cell_type": "code",
   "execution_count": 0,
   "metadata": {
    "colab": {
     "base_uri": "https://localhost:8080/",
     "height": 34
    },
    "colab_type": "code",
    "id": "9Gr7_P-CnY8m",
    "outputId": "d551d401-ff58-4ca0-e975-8c53c85f33fa"
   },
   "outputs": [
    {
     "name": "stderr",
     "output_type": "stream",
     "text": [
      "/ |                 #                                | 20 Elapsed Time: 0:00:28"
     ]
    }
   ],
   "source": [
    "test_sample21=test(data,21)"
   ]
  },
  {
   "cell_type": "code",
   "execution_count": 0,
   "metadata": {
    "colab": {
     "base_uri": "https://localhost:8080/",
     "height": 34
    },
    "colab_type": "code",
    "id": "L9WDIvmZnY8p",
    "outputId": "b055cc04-3e67-491e-9b79-e4cd8be03db6"
   },
   "outputs": [
    {
     "name": "stderr",
     "output_type": "stream",
     "text": [
      "| |            #                                     | 40 Elapsed Time: 0:00:58\n"
     ]
    }
   ],
   "source": [
    "test_sample41=test(data,41)"
   ]
  },
  {
   "cell_type": "code",
   "execution_count": 0,
   "metadata": {
    "colab": {
     "base_uri": "https://localhost:8080/",
     "height": 34
    },
    "colab_type": "code",
    "id": "cVVGyVxvnY8u",
    "outputId": "0f11400a-d7e2-435a-96a6-c0ea299bbfe5"
   },
   "outputs": [
    {
     "name": "stderr",
     "output_type": "stream",
     "text": [
      "| |                                             #    | 80 Elapsed Time: 0:01:55\n"
     ]
    }
   ],
   "source": [
    "test_sample81=test(data,81)"
   ]
  },
  {
   "cell_type": "code",
   "execution_count": 0,
   "metadata": {
    "colab": {
     "base_uri": "https://localhost:8080/",
     "height": 34
    },
    "colab_type": "code",
    "id": "ftUVM6Fa7Dnq",
    "outputId": "f20a61c7-a98d-4faf-96dd-b4939526dc35"
   },
   "outputs": [
    {
     "name": "stderr",
     "output_type": "stream",
     "text": [
      "| |                                     #           | 100 Elapsed Time: 0:02:23\n"
     ]
    }
   ],
   "source": [
    "test_sample101=test(data,101)\n"
   ]
  },
  {
   "cell_type": "code",
   "execution_count": 0,
   "metadata": {
    "colab": {
     "base_uri": "https://localhost:8080/",
     "height": 1025
    },
    "colab_type": "code",
    "id": "HV3xliCb-2f4",
    "outputId": "685c50a8-7ed1-430c-c176-98b623d4eb82"
   },
   "outputs": [
    {
     "data": {
      "image/png": "[encoded data removed]",
      "text/plain": [
       "<Figure size 432x288 with 1 Axes>"
      ]
     },
     "metadata": {
      "tags": []
     },
     "output_type": "display_data"
    },
    {
     "data": {
      "image/png": "[encoded data removed]",
      "text/plain": [
       "<Figure size 432x288 with 1 Axes>"
      ]
     },
     "metadata": {
      "tags": []
     },
     "output_type": "display_data"
    },
    {
     "data": {
      "image/png": "[encoded data removed]",
      "text/plain": [
       "<Figure size 432x288 with 1 Axes>"
      ]
     },
     "metadata": {
      "tags": []
     },
     "output_type": "display_data"
    },
    {
     "data": {
      "image/png": "[encoded data removed]",
      "text/plain": [
       "<Figure size 432x288 with 1 Axes>"
      ]
     },
     "metadata": {
      "tags": []
     },
     "output_type": "display_data"
    }
   ],
   "source": [
    "l=plt_distrub(test_sample21,0,'b')\n",
    "plt_distrub(test_sample21,2,'y')\n",
    "plt.show()\n",
    "plt_distrub(test_sample41,0,'b')\n",
    "plt_distrub(test_sample41,2,'y')\n",
    "plt.show()\n",
    "plt_distrub(test_sample81,0,'b')\n",
    "plt_distrub(test_sample81,2,'y')\n",
    "plt.show()\n",
    "plt_distrub(test_sample101,0,'b')\n",
    "plt_distrub(test_sample101,2,'y')\n",
    "plt.show()\n",
    "\n"
   ]
  },
  {
   "cell_type": "code",
   "execution_count": 0,
   "metadata": {
    "colab": {},
    "colab_type": "code",
    "id": "CM8oSQADnY8y"
   },
   "outputs": [],
   "source": [
    "import scipy.stats as stats\n",
    "from scipy.stats import norm,pearsonr"
   ]
  },
  {
   "cell_type": "markdown",
   "metadata": {
    "colab_type": "text",
    "id": "JnDwBR8JXazy"
   },
   "source": [
    " Проверка критерия согласия с нормальным распределением"
   ]
  },
  {
   "cell_type": "code",
   "execution_count": 0,
   "metadata": {
    "colab": {},
    "colab_type": "code",
    "id": "VhtBHTvFslzL"
   },
   "outputs": [],
   "source": [
    "norm_sample=norm.pdf(test_sample101[0], np.mean(test_sample101[0]), np.std(test_sample101[0]))"
   ]
  },
  {
   "cell_type": "code",
   "execution_count": 276,
   "metadata": {
    "colab": {
     "base_uri": "https://localhost:8080/",
     "height": 34
    },
    "colab_type": "code",
    "id": "LqOr9Q64t-25",
    "outputId": "c6b20ada-ccd4-4af1-c69e-a6b11332d06c"
   },
   "outputs": [
    {
     "data": {
      "text/plain": [
       "(0.005987613957463325, 0.952612575552177)"
      ]
     },
     "execution_count": 276,
     "metadata": {
      "tags": []
     },
     "output_type": "execute_result"
    }
   ],
   "source": [
    "pearsonr(norm_sample,test_sample101[0])"
   ]
  },
  {
   "cell_type": "markdown",
   "metadata": {
    "colab_type": "text",
    "id": "Z-1gDWGknY81"
   },
   "source": [
    "# Проверим гипотезу о равенстве средних у accuracy в порядке importance и случайно перемешанных features,  используя t-критерий Стьюдента"
   ]
  },
  {
   "cell_type": "markdown",
   "metadata": {
    "colab_type": "text",
    "id": "_XuPo9NlU91-"
   },
   "source": [
    "<b> объем выборки =101\n",
    "  "
   ]
  },
  {
   "cell_type": "code",
   "execution_count": 0,
   "metadata": {
    "colab": {
     "base_uri": "https://localhost:8080/",
     "height": 34
    },
    "colab_type": "code",
    "id": "xyjD5DUznY88",
    "outputId": "3b2f863f-02e1-4f9e-8c3f-56dee695a63f"
   },
   "outputs": [
    {
     "data": {
      "text/plain": [
       "Ttest_indResult(statistic=0.6895018143976791, pvalue=0.491306733145336)"
      ]
     },
     "execution_count": 230,
     "metadata": {
      "tags": []
     },
     "output_type": "execute_result"
    }
   ],
   "source": [
    "stats.ttest_ind(test_sample101[0], test_sample101[2])"
   ]
  },
  {
   "cell_type": "markdown",
   "metadata": {
    "colab_type": "text",
    "id": "0BTwu21PWAea"
   },
   "source": [
    "*freedom degrees = 101+101-2=200*  $ T_{alpha=0.01,f.d.=200} =2,601>0.689 $ cледовательно <b>  различия сравниваемых величин статистически не значимы"
   ]
  }
 ],
 "metadata": {
  "colab": {
   "collapsed_sections": [],
   "name": "coursepaper.ipynb",
   "provenance": [],
   "toc_visible": true,
   "version": "0.3.2"
  },
  "kernelspec": {
   "display_name": "Python 3",
   "language": "python",
   "name": "python3"
  },
  "language_info": {
   "codemirror_mode": {
    "name": "ipython",
    "version": 3
   },
   "file_extension": ".py",
   "mimetype": "text/x-python",
   "name": "python",
   "nbconvert_exporter": "python",
   "pygments_lexer": "ipython3",
   "version": "3.6.4"
  }
 },
 "nbformat": 4,
 "nbformat_minor": 1
}
